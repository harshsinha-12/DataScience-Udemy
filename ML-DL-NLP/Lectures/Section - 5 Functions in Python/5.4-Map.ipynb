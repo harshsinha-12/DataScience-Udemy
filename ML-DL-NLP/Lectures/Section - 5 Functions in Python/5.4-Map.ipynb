{
 "cells": [
  {
   "cell_type": "markdown",
   "metadata": {},
   "source": [
    "The map() function applies a given function to all items in an input list (or any other iterable) and returns a map object (an iterator). This is practically useful for transforming data in a list comprehensively."
   ]
  },
  {
   "cell_type": "code",
   "execution_count": 2,
   "metadata": {},
   "outputs": [
    {
     "data": {
      "text/plain": [
       "9"
      ]
     },
     "execution_count": 2,
     "metadata": {},
     "output_type": "execute_result"
    }
   ],
   "source": [
    "def square(x):\n",
    "    return x * x    \n",
    "\n",
    "square(3)"
   ]
  },
  {
   "cell_type": "code",
   "execution_count": 3,
   "metadata": {},
   "outputs": [
    {
     "name": "stdout",
     "output_type": "stream",
     "text": [
      "[1, 4, 9, 16, 25, 36, 49, 64, 81, 100]\n"
     ]
    }
   ],
   "source": [
    "numbers = [1, 2, 3, 4, 5, 6, 7, 8, 9, 10]\n",
    "squared_numbers = map(square, numbers)\n",
    "# map() returns a map object which is an iterator, so we need to convert it to a list\n",
    "# map (function, iterable)\n",
    "print(list(squared_numbers))"
   ]
  },
  {
   "cell_type": "code",
   "execution_count": 5,
   "metadata": {},
   "outputs": [
    {
     "data": {
      "text/plain": [
       "[1, 8, 27, 64, 125, 216, 343, 512, 729, 1000]"
      ]
     },
     "execution_count": 5,
     "metadata": {},
     "output_type": "execute_result"
    }
   ],
   "source": [
    "numbers = [1, 2, 3, 4, 5, 6, 7, 8, 9, 10]\n",
    "list(map(lambda x: x ** 3, numbers)) "
   ]
  },
  {
   "cell_type": "code",
   "execution_count": 8,
   "metadata": {},
   "outputs": [
    {
     "data": {
      "text/plain": [
       "[7, 9, 11, 13, 15]"
      ]
     },
     "execution_count": 8,
     "metadata": {},
     "output_type": "execute_result"
    }
   ],
   "source": [
    "# Map with multiple iterables\n",
    "\n",
    "num1 = [1, 2, 3, 4, 5]\n",
    "num2 = [6, 7, 8, 9, 10]\n",
    "\n",
    "list(map(lambda x, y: x + y, num1, num2))"
   ]
  },
  {
   "cell_type": "code",
   "execution_count": 9,
   "metadata": {},
   "outputs": [
    {
     "data": {
      "text/plain": [
       "[7, 9, 11, 13, 15]"
      ]
     },
     "execution_count": 9,
     "metadata": {},
     "output_type": "execute_result"
    }
   ],
   "source": [
    "# Map with multiple iterables\n",
    "\n",
    "num1 = [1, 2, 3, 4, 5]\n",
    "num2 = [6, 7, 8, 9, 10, 11]\n",
    "\n",
    "list(map(lambda x, y: x + y, num1, num2))"
   ]
  },
  {
   "cell_type": "code",
   "execution_count": 7,
   "metadata": {},
   "outputs": [
    {
     "name": "stdout",
     "output_type": "stream",
     "text": [
      "[7, 9, 11]\n"
     ]
    }
   ],
   "source": [
    "# Map with multiple iterables of different lengths\n",
    "num1 = [1, 2, 3, 4, 5]\n",
    "num2 = [6, 7, 8]\n",
    "\n",
    "# Correct the usage of zip inside map\n",
    "result = list(map(lambda x_y: x_y[0] + x_y[1], zip(num1, num2)))\n",
    "print(result)\n"
   ]
  },
  {
   "cell_type": "code",
   "execution_count": 10,
   "metadata": {},
   "outputs": [
    {
     "name": "stdout",
     "output_type": "stream",
     "text": [
      "[7, 9, 11, 4, 5]\n"
     ]
    }
   ],
   "source": [
    "from itertools import zip_longest\n",
    "\n",
    "num1 = [1, 2, 3, 4, 5]\n",
    "num2 = [6, 7, 8]\n",
    "\n",
    "# Use zip_longest to handle different lengths, fillvalue can be set to 0 to avoid None values\n",
    "result = list(map(lambda x_y: (x_y[0] or 0) + (x_y[1] or 0), zip_longest(num1, num2, fillvalue=0)))\n",
    "print(result)\n",
    "\n",
    "# Zip function to combine two lists into a list of tuples"
   ]
  },
  {
   "cell_type": "code",
   "execution_count": 12,
   "metadata": {},
   "outputs": [
    {
     "name": "stdout",
     "output_type": "stream",
     "text": [
      "['1', '2', '3', '4', '5']\n",
      "[1, 2, 3, 4, 5]\n"
     ]
    }
   ],
   "source": [
    "# Map to convert list of strings to list of integers\n",
    "numbers = ['1', '2', '3', '4', '5']\n",
    "print(numbers)\n",
    "integers = list(map(int, numbers))\n",
    "print(integers)"
   ]
  },
  {
   "cell_type": "code",
   "execution_count": 14,
   "metadata": {},
   "outputs": [
    {
     "name": "stdout",
     "output_type": "stream",
     "text": [
      "['APPLE', 'BANANA', 'CHERRY']\n"
     ]
    }
   ],
   "source": [
    "words = ['apple', 'banana', 'cherry']\n",
    "upper_case_words = list(map(str.upper, words))\n",
    "print(upper_case_words)"
   ]
  },
  {
   "cell_type": "code",
   "execution_count": 15,
   "metadata": {},
   "outputs": [
    {
     "name": "stdout",
     "output_type": "stream",
     "text": [
      "['John', 'Jane', 'Peter']\n"
     ]
    }
   ],
   "source": [
    "def get_name(person):\n",
    "    return person['name']\n",
    "\n",
    "people = [\n",
    "    {'name': 'John', 'age': 25},\n",
    "    {'name': 'Jane', 'age': 22},\n",
    "    {'name': 'Peter', 'age': 31}\n",
    "]\n",
    "\n",
    "names = list(map(get_name, people))\n",
    "print(names)"
   ]
  },
  {
   "cell_type": "code",
   "execution_count": null,
   "metadata": {},
   "outputs": [],
   "source": []
  }
 ],
 "metadata": {
  "kernelspec": {
   "display_name": "Python 3",
   "language": "python",
   "name": "python3"
  },
  "language_info": {
   "codemirror_mode": {
    "name": "ipython",
    "version": 3
   },
   "file_extension": ".py",
   "mimetype": "text/x-python",
   "name": "python",
   "nbconvert_exporter": "python",
   "pygments_lexer": "ipython3",
   "version": "3.12.5"
  }
 },
 "nbformat": 4,
 "nbformat_minor": 2
}
