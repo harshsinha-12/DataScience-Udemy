{
 "cells": [
  {
   "cell_type": "markdown",
   "metadata": {},
   "source": [
    "## Linear Regression from Scratch"
   ]
  },
  {
   "cell_type": "markdown",
   "metadata": {},
   "source": [
    "[https://youtu.be/ltXSoduiVwY?si=HTx7HEjB4c88mY-C](https://youtu.be/ltXSoduiVwY?si=HTx7HEjB4c88mY-C)"
   ]
  },
  {
   "cell_type": "code",
   "execution_count": 1,
   "metadata": {},
   "outputs": [],
   "source": [
    "import numpy as np"
   ]
  },
  {
   "cell_type": "code",
   "execution_count": 3,
   "metadata": {},
   "outputs": [],
   "source": [
    "class LinearRegression:\n",
    "\n",
    "    def __init__(self, learning_rate=0.001, n_iterations=1000):\n",
    "        self.learning_rate = learning_rate\n",
    "        self.n_iterations = n_iterations\n",
    "        self.weights = None\n",
    "        self.bias = None\n",
    "\n",
    "    def fit(self, X, y):\n",
    "        n_samples, n_features = X.shape\n",
    "        self.weights = np.zeros(n_features)\n",
    "        self.bias = 0\n",
    "\n",
    "\n",
    "        for _ in range(self.n_iterations):\n",
    "            y_pred = np.dot(X, self.weights) + self.bias\n",
    "\n",
    "            dw = (1 / n_samples) * np.dot(X.T, (y_pred - y))\n",
    "            db = (1 / n_samples) * np.sum(y_pred - y)\n",
    "\n",
    "            self.weights -= self.learning_rate * dw\n",
    "            self.bias -= self.learning_rate * db\n",
    "\n",
    "    def predict(self, X):\n",
    "        y_pred = np.dot(X, self.weights) + self.bias\n",
    "        return y_pred"
   ]
  },
  {
   "cell_type": "code",
   "execution_count": 4,
   "metadata": {},
   "outputs": [
    {
     "data": {
      "image/png": "[encoded data removed]",
      "text/plain": [
       "<Figure size 800x600 with 1 Axes>"
      ]
     },
     "metadata": {},
     "output_type": "display_data"
    }
   ],
   "source": [
    "from sklearn.model_selection import train_test_split\n",
    "from sklearn import datasets\n",
    "import matplotlib.pyplot as plt\n",
    "\n",
    "X , y = datasets.make_regression(n_samples=100, n_features=1, noise=20, random_state=4)\n",
    "X_train, X_test, y_train, y_test = train_test_split(X, y, test_size=0.2, random_state=1234)\n",
    "\n",
    "regressor = LinearRegression(learning_rate=0.01, n_iterations=1000)\n",
    "regressor.fit(X_train, y_train)\n",
    "predictions = regressor.predict(X_test)\n",
    "\n",
    "fig = plt.figure(figsize=(8,6))\n",
    "plt.scatter(X_train, y_train, color=\"b\", s=30)\n",
    "plt.scatter(X_test, y_test, color=\"r\", s=30)\n",
    "plt.plot(X_test, predictions, color=\"k\")\n",
    "plt.show()\n",
    "\n"
   ]
  },
  {
   "cell_type": "code",
   "execution_count": 6,
   "metadata": {},
   "outputs": [
    {
     "name": "stdout",
     "output_type": "stream",
     "text": [
      "MSE: 305.7719958301902\n"
     ]
    }
   ],
   "source": [
    "def mse(y_true, y_pred):\n",
    "    return np.mean((y_true - y_pred) ** 2)\n",
    "\n",
    "mse_value = mse(y_test, predictions)\n",
    "print(\"MSE:\", mse_value)"
   ]
  },
  {
   "cell_type": "code",
   "execution_count": 8,
   "metadata": {},
   "outputs": [
    {
     "name": "stdout",
     "output_type": "stream",
     "text": [
      "R2: 0.9247520464311005\n"
     ]
    }
   ],
   "source": [
    "def r2_score(y_true, y_pred):\n",
    "    numerator = np.sum((y_true - y_pred) ** 2)\n",
    "    denominator = np.sum((y_true - np.mean(y_true)) ** 2)\n",
    "    return 1 - (numerator / denominator)\n",
    "\n",
    "r2_value = r2_score(y_test, predictions)\n",
    "print(\"R2:\", r2_value)"
   ]
  },
  {
   "cell_type": "code",
   "execution_count": 10,
   "metadata": {},
   "outputs": [
    {
     "name": "stdout",
     "output_type": "stream",
     "text": [
      "RMSE: 17.486337404676547\n"
     ]
    }
   ],
   "source": [
    "def rmse(y_true, y_pred):\n",
    "    return np.sqrt(np.mean((y_true - y_pred) ** 2))\n",
    "\n",
    "rmse_value = rmse(y_test, predictions)\n",
    "print(\"RMSE:\", rmse_value)"
   ]
  },
  {
   "cell_type": "code",
   "execution_count": 11,
   "metadata": {},
   "outputs": [
    {
     "name": "stdout",
     "output_type": "stream",
     "text": [
      "Adjusted R2: 0.9205716045661617\n"
     ]
    }
   ],
   "source": [
    "def adjusted_r2(y_true, y_pred, n, p):\n",
    "    r2 = r2_score(y_true, y_pred)\n",
    "    return 1 - (1 - r2) * ((n - 1) / (n - p - 1))  \n",
    "\n",
    "adjusted_r2_value = adjusted_r2(y_test, predictions, X_test.shape[0], X_test.shape[1])\n",
    "print(\"Adjusted R2:\", adjusted_r2_value)"
   ]
  },
  {
   "cell_type": "markdown",
   "metadata": {},
   "source": [
    "•\tsklearn.datasets: Contains make_regression which is used to generate synthetic regression data.\n",
    "\n",
    "•\tsklearn.model_selection: Includes train_test_split to split data into training and testing sets.\n",
    "\n",
    "•\tmake_regression generates a dataset for regression analysis. Here, 100 samples with 1 feature and added noise of 20 units are created. random_state ensures reproducibility.\n",
    "\n",
    "•\tThe data is then split into training and testing sets, with 20% of the data reserved for testing. The random_state parameter ensures that the split is reproducible.\n",
    "\n",
    "•\tThe LinearRegression class encapsulates the model. It initializes with a learning_rate and number of n_iterations for the gradient descent.\n",
    "\n",
    "•\tfit method calculates the optimal values for weights and bias using gradient descent. dw and db are the gradients of the loss function with respect to the weights and bias, respectively.\n",
    "\n",
    "•\tpredict method computes the predicted values using the learned weights and bias.\n",
    "\n",
    "•\tAn instance of LinearRegression is created and trained on the training data using the fit method.\n",
    "\n",
    "•\tPredictions are made on the test data.\n",
    "\n",
    "•\tThe results are visualized by plotting the training data (blue), test data (red), and the regression line (black).\n",
    "\n",
    "•\tmse function computes the Mean Squared Error, a measure of the average of the squares of the errors.\n",
    "\n",
    "•\tr2_score function computes the R-squared, which indicates the proportion of the variance in the dependent variable that is predictable from the independent variable(s)."
   ]
  }
 ],
 "metadata": {
  "kernelspec": {
   "display_name": "Python 3",
   "language": "python",
   "name": "python3"
  },
  "language_info": {
   "codemirror_mode": {
    "name": "ipython",
    "version": 3
   },
   "file_extension": ".py",
   "mimetype": "text/x-python",
   "name": "python",
   "nbconvert_exporter": "python",
   "pygments_lexer": "ipython3",
   "version": "3.12.6"
  }
 },
 "nbformat": 4,
 "nbformat_minor": 2
}
