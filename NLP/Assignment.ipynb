{
 "cells": [
  {
   "cell_type": "markdown",
   "metadata": {},
   "source": [
    "# Multiple Linear Regression"
   ]
  },
  {
   "cell_type": "markdown",
   "metadata": {},
   "source": [
    "Multiple Linear Regression: An Overview\n",
    "\n",
    "Multiple Linear Regression (MLR), also known as multiple regression, is a statistical technique that uses several explanatory variables to predict the outcome of a response variable. The goal of MLR is to model the linear relationship between the explanatory (independent) variables and a single response (dependent) variable.\n",
    "\n",
    "How Multiple Linear Regression Works\n",
    "\n",
    "MLR fits a linear equation to observed data. Every value of the independent variable x is associated with a value of the dependent variable y. The MLR equation is generally written as:\n",
    "\n",
    "￼\n",
    "\n",
    "Here:\n",
    "\n",
    "\t•\t￼ is the dependent variable.\n",
    "\t•\t￼ are the independent variables.\n",
    "\t•\t￼ are the parameters of the model.\n",
    "\t•\t￼ is the error term, which is the part of ￼ the regression model is unable to explain.\n",
    "\n",
    "Assumptions of Multiple Linear Regression\n",
    "\n",
    "MLR assumes that:\n",
    "\n",
    "\t1.\tLinearity: There is a linear relationship between the dependent variables and the independent variables.\n",
    "\t2.\tNo Multicollinearity: The independent variables are not too highly correlated with each other.\n",
    "\t3.\tHomoscedasticity: This assumption states that the variance of error terms are similar across the values of the independent variables.\n",
    "\t4.\tIndependence: Observations are independent of each other.\n",
    "\t5.\tNormal Distribution of Errors: The error terms are normally distributed.\n",
    "\n",
    "Estimation Techniques\n",
    "\n",
    "The most common method for fitting a multiple linear regression model is the Ordinary Least Squares (OLS) method. OLS estimates the parameters by minimizing the sum of the squared differences between observed and predicted values.\n",
    "\n",
    "Evaluating the Model\n",
    "\n",
    "The goodness of fit in an MLR model is often determined by:\n",
    "\n",
    "\t•\tR-squared: This statistic measures the proportion of variance in the dependent variable that can be explained by the independent variables.\n",
    "\t•\tAdjusted R-squared: This is a modified version of R-squared adjusted for the number of predictors in the model.\n",
    "\t•\tF-statistic: Used to determine if the model as a whole has a statistically significant predictive capability.\n",
    "\t•\tt-tests: Used to determine if individual coefficients are significantly different from zero.\n",
    "\n",
    "Practical Considerations\n",
    "\n",
    "\t•\tScaling and Transformations: Features may need to be scaled or transformed to meet model assumptions.\n",
    "\t•\tOutlier Detection: Outliers can have a disproportionately large effect on the regression model and may need to be removed.\n",
    "\t•\tDiagnostics: Checking for multicollinearity, homoscedasticity, and influential observations is crucial for a reliable model.\n",
    "\n",
    "Applications\n",
    "\n",
    "Multiple linear regression is widely used across many fields such as economics, business, engineering, the social sciences, and biology. Examples include:\n",
    "\n",
    "\t•\tPredicting consumer spending using income and wealth levels.\n",
    "\t•\tForecasting stock prices based on various economic indicators.\n",
    "\t•\tEstimating the effects of marketing campaigns on sales.\n",
    "\n",
    "Limitations\n",
    "\n",
    "\t•\tNon-linear Relationships: MLR cannot adequately model non-linear relationships without transformation of variables.\n",
    "\t•\tCausality: MLR cannot be used to establish causal relationships. It can only suggest associations.\n",
    "\t•\tQuality of Data: The accuracy of a regression model is highly dependent on the quality of the data used.\n",
    "\n",
    "In conclusion, multiple linear regression is a powerful statistical tool for analyzing relationships between multiple variables. However, careful attention must be paid to the assumptions the model is based on and the quality of the data to ensure reliable and meaningful results."
   ]
  },
  {
   "cell_type": "code",
   "execution_count": 7,
   "metadata": {},
   "outputs": [
    {
     "name": "stdout",
     "output_type": "stream",
     "text": [
      "Mean Squared Error: 113.90594517447205\n"
     ]
    }
   ],
   "source": [
    "import numpy as np\n",
    "from sklearn.model_selection import train_test_split\n",
    "from sklearn import datasets\n",
    "import matplotlib.pyplot as plt\n",
    "\n",
    "class MultipleLinearRegression:\n",
    "\n",
    "    def __init__(self, learning_rate=0.001, n_iterations=1000):\n",
    "        self.learning_rate = learning_rate\n",
    "        self.n_iterations = n_iterations\n",
    "        self.weights = None\n",
    "        self.bias = None\n",
    "\n",
    "    def fit(self, X, y):\n",
    "        n_samples, n_features = X.shape\n",
    "        self.weights = np.zeros(n_features)\n",
    "        self.bias = 0\n",
    "\n",
    "        for _ in range(self.n_iterations):\n",
    "            y_pred = np.dot(X, self.weights) + self.bias\n",
    "\n",
    "            dw = (1 / n_samples) * np.dot(X.T, (y_pred - y))\n",
    "            db = (1 / n_samples) * np.sum(y_pred - y)\n",
    "\n",
    "            self.weights -= self.learning_rate * dw\n",
    "            self.bias -= self.learning_rate * db\n",
    "\n",
    "    def predict(self, X):\n",
    "        return np.dot(X, self.weights) + self.bias\n",
    "\n",
    "# Example of using the class with a dataset that has multiple features\n",
    "X, y = datasets.make_regression(n_samples=100, n_features=3, noise=10, random_state=42)\n",
    "X_train, X_test, y_train, y_test = train_test_split(X, y, test_size=0.2, random_state=1234)\n",
    "\n",
    "regressor = MultipleLinearRegression(learning_rate=0.01, n_iterations=2000)\n",
    "regressor.fit(X_train, y_train)\n",
    "predictions = regressor.predict(X_test)\n",
    "\n",
    "# Visualization (in 3D if possible, otherwise show evaluation metrics)\n",
    "# Since it's hard to visualize multiple dimensions in a simple 2D plot, we focus on evaluation.\n",
    "\n",
    "\n",
    "from sklearn.metrics import mean_squared_error\n",
    "mse = mean_squared_error(y_test, predictions)\n",
    "print(f\"Mean Squared Error: {mse}\")"
   ]
  },
  {
   "cell_type": "code",
   "execution_count": 8,
   "metadata": {},
   "outputs": [
    {
     "data": {
      "application/vnd.plotly.v1+json": {
       "config": {
        "plotlyServerURL": "https://plot.ly"
       },
       "data": [
        {
         "hovertemplate": "x=%{x}<br>y=%{y}<br>z=%{z}<br>color=%{marker.color}<extra></extra>",
         "legendgroup": "",
         "marker": {
          "color": [
           -109.49692489204926,
           75.70608503483396,
           50.62742437870149,
           -12.647344825449792,
           -61.2664732364443,
           -50.31101854145087,
           -141.07126407640524,
           -35.31101336644677,
           299.27065229865286,
           110.4846309750352,
           -70.06843444432002,
           46.97143007061358,
           33.91503936902475,
           -9.322393035654208,
           65.91518640126068,
           -4.176251886364364,
           198.03838064898176,
           -21.876409948066247,
           46.43661817954839,
           30.888458283668797
          ],
          "coloraxis": "coloraxis",
          "symbol": "circle"
         },
         "mode": "markers",
         "name": "",
         "scene": "scene",
         "showlegend": false,
         "type": "scatter3d",
         "x": [
          -0.22577630048653566,
          0.30729952087660933,
          -0.07201012158033385,
          0.37569801834567196,
          -0.23458713337514742,
          0.23225369716100355,
          0.24196227156603412,
          1.030999522495951,
          0.5137859509122088,
          -0.4749453111609562,
          0.0917607765355023,
          0.40498171096095553,
          -0.8084936028931876,
          -0.19236096478112252,
          -0.3092123758512146,
          0.21409374413020396,
          1.586016816145352,
          0.2809918677350327,
          0.32875110965968446,
          0.8135172173696698
         ],
         "y": [
          -1.4247481862134568,
          0.6296288419236122,
          0.36163602504763415,
          -0.2916937497932768,
          -0.42064532276535904,
          -0.7143514180263678,
          -1.7249178325130328,
          -0.8392175232226385,
          3.8527314906547208,
          1.7654542402810969,
          -0.21967188783751193,
          0.9178619470547761,
          0.9154021177020741,
          -0.03471176970524331,
          0.9755451271223592,
          0.173180925851182,
          2.1330333746562666,
          -0.20812225035727533,
          0.5132674331133561,
          0.22745993460412942
         ],
         "z": [
          -109.0171883962956,
          72.63299865489394,
          45.81979287627039,
          -21.155723435827955,
          -63.70090963421587,
          -39.13196338638208,
          -156.58774162562835,
          -13.51843344556355,
          311.40221319989337,
          106.28111621088955,
          -50.75495396867462,
          56.435630046475005,
          36.87937157551269,
          -0.5641691611665203,
          71.56137876092582,
          -3.7999190832576226,
          180.10935674126162,
          -18.05715307606703,
          38.52831245412624,
          17.366439291099
         ]
        }
       ],
       "layout": {
        "coloraxis": {
         "colorbar": {
          "title": {
           "text": "color"
          }
         },
         "colorscale": [
          [
           0,
           "#0d0887"
          ],
          [
           0.1111111111111111,
           "#46039f"
          ],
          [
           0.2222222222222222,
           "#7201a8"
          ],
          [
           0.3333333333333333,
           "#9c179e"
          ],
          [
           0.4444444444444444,
           "#bd3786"
          ],
          [
           0.5555555555555556,
           "#d8576b"
          ],
          [
           0.6666666666666666,
           "#ed7953"
          ],
          [
           0.7777777777777778,
           "#fb9f3a"
          ],
          [
           0.8888888888888888,
           "#fdca26"
          ],
          [
           1,
           "#f0f921"
          ]
         ]
        },
        "legend": {
         "tracegroupgap": 0
        },
        "scene": {
         "domain": {
          "x": [
           0,
           1
          ],
          "y": [
           0,
           1
          ]
         },
         "xaxis": {
          "title": {
           "text": "Feature 1"
          }
         },
         "yaxis": {
          "title": {
           "text": "Feature 2"
          }
         },
         "zaxis": {
          "title": {
           "text": "Predicted Values"
          }
         }
        },
        "template": {
         "data": {
          "bar": [
           {
            "error_x": {
             "color": "#2a3f5f"
            },
            "error_y": {
             "color": "#2a3f5f"
            },
            "marker": {
             "line": {
              "color": "#E5ECF6",
              "width": 0.5
             },
             "pattern": {
              "fillmode": "overlay",
              "size": 10,
              "solidity": 0.2
             }
            },
            "type": "bar"
           }
          ],
          "barpolar": [
           {
            "marker": {
             "line": {
              "color": "#E5ECF6",
              "width": 0.5
             },
             "pattern": {
              "fillmode": "overlay",
              "size": 10,
              "solidity": 0.2
             }
            },
            "type": "barpolar"
           }
          ],
          "carpet": [
           {
            "aaxis": {
             "endlinecolor": "#2a3f5f",
             "gridcolor": "white",
             "linecolor": "white",
             "minorgridcolor": "white",
             "startlinecolor": "#2a3f5f"
            },
            "baxis": {
             "endlinecolor": "#2a3f5f",
             "gridcolor": "white",
             "linecolor": "white",
             "minorgridcolor": "white",
             "startlinecolor": "#2a3f5f"
            },
            "type": "carpet"
           }
          ],
          "choropleth": [
           {
            "colorbar": {
             "outlinewidth": 0,
             "ticks": ""
            },
            "type": "choropleth"
           }
          ],
          "contour": [
           {
            "colorbar": {
             "outlinewidth": 0,
             "ticks": ""
            },
            "colorscale": [
             [
              0,
              "#0d0887"
             ],
             [
              0.1111111111111111,
              "#46039f"
             ],
             [
              0.2222222222222222,
              "#7201a8"
             ],
             [
              0.3333333333333333,
              "#9c179e"
             ],
             [
              0.4444444444444444,
              "#bd3786"
             ],
             [
              0.5555555555555556,
              "#d8576b"
             ],
             [
              0.6666666666666666,
              "#ed7953"
             ],
             [
              0.7777777777777778,
              "#fb9f3a"
             ],
             [
              0.8888888888888888,
              "#fdca26"
             ],
             [
              1,
              "#f0f921"
             ]
            ],
            "type": "contour"
           }
          ],
          "contourcarpet": [
           {
            "colorbar": {
             "outlinewidth": 0,
             "ticks": ""
            },
            "type": "contourcarpet"
           }
          ],
          "heatmap": [
           {
            "colorbar": {
             "outlinewidth": 0,
             "ticks": ""
            },
            "colorscale": [
             [
              0,
              "#0d0887"
             ],
             [
              0.1111111111111111,
              "#46039f"
             ],
             [
              0.2222222222222222,
              "#7201a8"
             ],
             [
              0.3333333333333333,
              "#9c179e"
             ],
             [
              0.4444444444444444,
              "#bd3786"
             ],
             [
              0.5555555555555556,
              "#d8576b"
             ],
             [
              0.6666666666666666,
              "#ed7953"
             ],
             [
              0.7777777777777778,
              "#fb9f3a"
             ],
             [
              0.8888888888888888,
              "#fdca26"
             ],
             [
              1,
              "#f0f921"
             ]
            ],
            "type": "heatmap"
           }
          ],
          "heatmapgl": [
           {
            "colorbar": {
             "outlinewidth": 0,
             "ticks": ""
            },
            "colorscale": [
             [
              0,
              "#0d0887"
             ],
             [
              0.1111111111111111,
              "#46039f"
             ],
             [
              0.2222222222222222,
              "#7201a8"
             ],
             [
              0.3333333333333333,
              "#9c179e"
             ],
             [
              0.4444444444444444,
              "#bd3786"
             ],
             [
              0.5555555555555556,
              "#d8576b"
             ],
             [
              0.6666666666666666,
              "#ed7953"
             ],
             [
              0.7777777777777778,
              "#fb9f3a"
             ],
             [
              0.8888888888888888,
              "#fdca26"
             ],
             [
              1,
              "#f0f921"
             ]
            ],
            "type": "heatmapgl"
           }
          ],
          "histogram": [
           {
            "marker": {
             "pattern": {
              "fillmode": "overlay",
              "size": 10,
              "solidity": 0.2
             }
            },
            "type": "histogram"
           }
          ],
          "histogram2d": [
           {
            "colorbar": {
             "outlinewidth": 0,
             "ticks": ""
            },
            "colorscale": [
             [
              0,
              "#0d0887"
             ],
             [
              0.1111111111111111,
              "#46039f"
             ],
             [
              0.2222222222222222,
              "#7201a8"
             ],
             [
              0.3333333333333333,
              "#9c179e"
             ],
             [
              0.4444444444444444,
              "#bd3786"
             ],
             [
              0.5555555555555556,
              "#d8576b"
             ],
             [
              0.6666666666666666,
              "#ed7953"
             ],
             [
              0.7777777777777778,
              "#fb9f3a"
             ],
             [
              0.8888888888888888,
              "#fdca26"
             ],
             [
              1,
              "#f0f921"
             ]
            ],
            "type": "histogram2d"
           }
          ],
          "histogram2dcontour": [
           {
            "colorbar": {
             "outlinewidth": 0,
             "ticks": ""
            },
            "colorscale": [
             [
              0,
              "#0d0887"
             ],
             [
              0.1111111111111111,
              "#46039f"
             ],
             [
              0.2222222222222222,
              "#7201a8"
             ],
             [
              0.3333333333333333,
              "#9c179e"
             ],
             [
              0.4444444444444444,
              "#bd3786"
             ],
             [
              0.5555555555555556,
              "#d8576b"
             ],
             [
              0.6666666666666666,
              "#ed7953"
             ],
             [
              0.7777777777777778,
              "#fb9f3a"
             ],
             [
              0.8888888888888888,
              "#fdca26"
             ],
             [
              1,
              "#f0f921"
             ]
            ],
            "type": "histogram2dcontour"
           }
          ],
          "mesh3d": [
           {
            "colorbar": {
             "outlinewidth": 0,
             "ticks": ""
            },
            "type": "mesh3d"
           }
          ],
          "parcoords": [
           {
            "line": {
             "colorbar": {
              "outlinewidth": 0,
              "ticks": ""
             }
            },
            "type": "parcoords"
           }
          ],
          "pie": [
           {
            "automargin": true,
            "type": "pie"
           }
          ],
          "scatter": [
           {
            "fillpattern": {
             "fillmode": "overlay",
             "size": 10,
             "solidity": 0.2
            },
            "type": "scatter"
           }
          ],
          "scatter3d": [
           {
            "line": {
             "colorbar": {
              "outlinewidth": 0,
              "ticks": ""
             }
            },
            "marker": {
             "colorbar": {
              "outlinewidth": 0,
              "ticks": ""
             }
            },
            "type": "scatter3d"
           }
          ],
          "scattercarpet": [
           {
            "marker": {
             "colorbar": {
              "outlinewidth": 0,
              "ticks": ""
             }
            },
            "type": "scattercarpet"
           }
          ],
          "scattergeo": [
           {
            "marker": {
             "colorbar": {
              "outlinewidth": 0,
              "ticks": ""
             }
            },
            "type": "scattergeo"
           }
          ],
          "scattergl": [
           {
            "marker": {
             "colorbar": {
              "outlinewidth": 0,
              "ticks": ""
             }
            },
            "type": "scattergl"
           }
          ],
          "scattermapbox": [
           {
            "marker": {
             "colorbar": {
              "outlinewidth": 0,
              "ticks": ""
             }
            },
            "type": "scattermapbox"
           }
          ],
          "scatterpolar": [
           {
            "marker": {
             "colorbar": {
              "outlinewidth": 0,
              "ticks": ""
             }
            },
            "type": "scatterpolar"
           }
          ],
          "scatterpolargl": [
           {
            "marker": {
             "colorbar": {
              "outlinewidth": 0,
              "ticks": ""
             }
            },
            "type": "scatterpolargl"
           }
          ],
          "scatterternary": [
           {
            "marker": {
             "colorbar": {
              "outlinewidth": 0,
              "ticks": ""
             }
            },
            "type": "scatterternary"
           }
          ],
          "surface": [
           {
            "colorbar": {
             "outlinewidth": 0,
             "ticks": ""
            },
            "colorscale": [
             [
              0,
              "#0d0887"
             ],
             [
              0.1111111111111111,
              "#46039f"
             ],
             [
              0.2222222222222222,
              "#7201a8"
             ],
             [
              0.3333333333333333,
              "#9c179e"
             ],
             [
              0.4444444444444444,
              "#bd3786"
             ],
             [
              0.5555555555555556,
              "#d8576b"
             ],
             [
              0.6666666666666666,
              "#ed7953"
             ],
             [
              0.7777777777777778,
              "#fb9f3a"
             ],
             [
              0.8888888888888888,
              "#fdca26"
             ],
             [
              1,
              "#f0f921"
             ]
            ],
            "type": "surface"
           }
          ],
          "table": [
           {
            "cells": {
             "fill": {
              "color": "#EBF0F8"
             },
             "line": {
              "color": "white"
             }
            },
            "header": {
             "fill": {
              "color": "#C8D4E3"
             },
             "line": {
              "color": "white"
             }
            },
            "type": "table"
           }
          ]
         },
         "layout": {
          "annotationdefaults": {
           "arrowcolor": "#2a3f5f",
           "arrowhead": 0,
           "arrowwidth": 1
          },
          "autotypenumbers": "strict",
          "coloraxis": {
           "colorbar": {
            "outlinewidth": 0,
            "ticks": ""
           }
          },
          "colorscale": {
           "diverging": [
            [
             0,
             "#8e0152"
            ],
            [
             0.1,
             "#c51b7d"
            ],
            [
             0.2,
             "#de77ae"
            ],
            [
             0.3,
             "#f1b6da"
            ],
            [
             0.4,
             "#fde0ef"
            ],
            [
             0.5,
             "#f7f7f7"
            ],
            [
             0.6,
             "#e6f5d0"
            ],
            [
             0.7,
             "#b8e186"
            ],
            [
             0.8,
             "#7fbc41"
            ],
            [
             0.9,
             "#4d9221"
            ],
            [
             1,
             "#276419"
            ]
           ],
           "sequential": [
            [
             0,
             "#0d0887"
            ],
            [
             0.1111111111111111,
             "#46039f"
            ],
            [
             0.2222222222222222,
             "#7201a8"
            ],
            [
             0.3333333333333333,
             "#9c179e"
            ],
            [
             0.4444444444444444,
             "#bd3786"
            ],
            [
             0.5555555555555556,
             "#d8576b"
            ],
            [
             0.6666666666666666,
             "#ed7953"
            ],
            [
             0.7777777777777778,
             "#fb9f3a"
            ],
            [
             0.8888888888888888,
             "#fdca26"
            ],
            [
             1,
             "#f0f921"
            ]
           ],
           "sequentialminus": [
            [
             0,
             "#0d0887"
            ],
            [
             0.1111111111111111,
             "#46039f"
            ],
            [
             0.2222222222222222,
             "#7201a8"
            ],
            [
             0.3333333333333333,
             "#9c179e"
            ],
            [
             0.4444444444444444,
             "#bd3786"
            ],
            [
             0.5555555555555556,
             "#d8576b"
            ],
            [
             0.6666666666666666,
             "#ed7953"
            ],
            [
             0.7777777777777778,
             "#fb9f3a"
            ],
            [
             0.8888888888888888,
             "#fdca26"
            ],
            [
             1,
             "#f0f921"
            ]
           ]
          },
          "colorway": [
           "#636efa",
           "#EF553B",
           "#00cc96",
           "#ab63fa",
           "#FFA15A",
           "#19d3f3",
           "#FF6692",
           "#B6E880",
           "#FF97FF",
           "#FECB52"
          ],
          "font": {
           "color": "#2a3f5f"
          },
          "geo": {
           "bgcolor": "white",
           "lakecolor": "white",
           "landcolor": "#E5ECF6",
           "showlakes": true,
           "showland": true,
           "subunitcolor": "white"
          },
          "hoverlabel": {
           "align": "left"
          },
          "hovermode": "closest",
          "mapbox": {
           "style": "light"
          },
          "paper_bgcolor": "white",
          "plot_bgcolor": "#E5ECF6",
          "polar": {
           "angularaxis": {
            "gridcolor": "white",
            "linecolor": "white",
            "ticks": ""
           },
           "bgcolor": "#E5ECF6",
           "radialaxis": {
            "gridcolor": "white",
            "linecolor": "white",
            "ticks": ""
           }
          },
          "scene": {
           "xaxis": {
            "backgroundcolor": "#E5ECF6",
            "gridcolor": "white",
            "gridwidth": 2,
            "linecolor": "white",
            "showbackground": true,
            "ticks": "",
            "zerolinecolor": "white"
           },
           "yaxis": {
            "backgroundcolor": "#E5ECF6",
            "gridcolor": "white",
            "gridwidth": 2,
            "linecolor": "white",
            "showbackground": true,
            "ticks": "",
            "zerolinecolor": "white"
           },
           "zaxis": {
            "backgroundcolor": "#E5ECF6",
            "gridcolor": "white",
            "gridwidth": 2,
            "linecolor": "white",
            "showbackground": true,
            "ticks": "",
            "zerolinecolor": "white"
           }
          },
          "shapedefaults": {
           "line": {
            "color": "#2a3f5f"
           }
          },
          "ternary": {
           "aaxis": {
            "gridcolor": "white",
            "linecolor": "white",
            "ticks": ""
           },
           "baxis": {
            "gridcolor": "white",
            "linecolor": "white",
            "ticks": ""
           },
           "bgcolor": "#E5ECF6",
           "caxis": {
            "gridcolor": "white",
            "linecolor": "white",
            "ticks": ""
           }
          },
          "title": {
           "x": 0.05
          },
          "xaxis": {
           "automargin": true,
           "gridcolor": "white",
           "linecolor": "white",
           "ticks": "",
           "title": {
            "standoff": 15
           },
           "zerolinecolor": "white",
           "zerolinewidth": 2
          },
          "yaxis": {
           "automargin": true,
           "gridcolor": "white",
           "linecolor": "white",
           "ticks": "",
           "title": {
            "standoff": 15
           },
           "zerolinecolor": "white",
           "zerolinewidth": 2
          }
         }
        },
        "title": {
         "text": "3D Scatter Plot of Predictions"
        }
       }
      }
     },
     "metadata": {},
     "output_type": "display_data"
    }
   ],
   "source": [
    "import plotly.express as px\n",
    "fig = px.scatter_3d(x=X_test[:, 0], y=X_test[:, 1], z=predictions, color=y_test, title='3D Scatter Plot of Predictions')\n",
    "fig.update_layout(scene=dict(\n",
    "                    xaxis_title='Feature 1',\n",
    "                    yaxis_title='Feature 2',\n",
    "                    zaxis_title='Predicted Values'))\n",
    "fig.show()"
   ]
  },
  {
   "cell_type": "code",
   "execution_count": 9,
   "metadata": {},
   "outputs": [
    {
     "name": "stdout",
     "output_type": "stream",
     "text": [
      "R2: 0.9883395048070226\n"
     ]
    }
   ],
   "source": [
    "def r2_score(y_true, y_pred):\n",
    "    numerator = np.sum((y_true - y_pred) ** 2)\n",
    "    denominator = np.sum((y_true - np.mean(y_true)) ** 2)\n",
    "    return 1 - (numerator / denominator)\n",
    "\n",
    "r2_value = r2_score(y_test, predictions)\n",
    "print(\"R2:\", r2_value)"
   ]
  },
  {
   "cell_type": "code",
   "execution_count": 10,
   "metadata": {},
   "outputs": [
    {
     "name": "stdout",
     "output_type": "stream",
     "text": [
      "RMSE: 10.672672822422323\n"
     ]
    }
   ],
   "source": [
    "def rmse(y_true, y_pred):\n",
    "    return np.sqrt(np.mean((y_true - y_pred) ** 2))\n",
    "\n",
    "rmse_value = rmse(y_test, predictions)\n",
    "print(\"RMSE:\", rmse_value)"
   ]
  },
  {
   "cell_type": "code",
   "execution_count": 11,
   "metadata": {},
   "outputs": [
    {
     "name": "stdout",
     "output_type": "stream",
     "text": [
      "Adjusted R2: 0.9861531619583394\n"
     ]
    }
   ],
   "source": [
    "def adjusted_r2(y_true, y_pred, n, p):\n",
    "    r2 = r2_score(y_true, y_pred)\n",
    "    return 1 - (1 - r2) * ((n - 1) / (n - p - 1))  \n",
    "\n",
    "adjusted_r2_value = adjusted_r2(y_test, predictions, X_test.shape[0], X_test.shape[1])\n",
    "print(\"Adjusted R2:\", adjusted_r2_value)"
   ]
  },
  {
   "cell_type": "code",
   "execution_count": 12,
   "metadata": {},
   "outputs": [
    {
     "data": {
      "text/plain": [
       "(np.float64(0.9456038173948219), -0.017759397658854148)"
      ]
     },
     "execution_count": 12,
     "metadata": {},
     "output_type": "execute_result"
    }
   ],
   "source": [
    "from sklearn.model_selection import train_test_split\n",
    "from sklearn.linear_model import LinearRegression\n",
    "from sklearn.metrics import mean_squared_error, r2_score\n",
    "import numpy as np\n",
    "\n",
    "# Assuming data X and y are already defined as numpy arrays in the user's notebook\n",
    "# We use the same dataset and splits as provided in the original code\n",
    "\n",
    "# Example dataset\n",
    "np.random.seed(42)\n",
    "X, y = np.random.randn(100, 3), np.random.randn(100)  # Simulated data\n",
    "\n",
    "# Splitting the dataset into training and testing sets\n",
    "X_train, X_test, y_train, y_test = train_test_split(X, y, test_size=0.2, random_state=1234)\n",
    "\n",
    "# Initializing and training the Multiple Linear Regression model\n",
    "model = LinearRegression()\n",
    "model.fit(X_train, y_train)\n",
    "\n",
    "# Making predictions\n",
    "predictions = model.predict(X_test)\n",
    "\n",
    "# Calculating metrics\n",
    "mse = mean_squared_error(y_test, predictions)\n",
    "r2 = r2_score(y_test, predictions)\n",
    "\n",
    "mse, r2"
   ]
  },
  {
   "cell_type": "markdown",
   "metadata": {},
   "source": [
    "# Polynomial Regression"
   ]
  },
  {
   "cell_type": "markdown",
   "metadata": {},
   "source": [
    "Polynomial Regression: An Overview\n",
    "\n",
    "Polynomial Regression is a form of regression analysis in which the relationship between the independent variable ￼ and the dependent variable ￼ is modeled as an nth degree polynomial. Polynomial regression fits a nonlinear relationship between the value of ￼ and the corresponding conditional mean of ￼, denoted ￼. Although polynomial regression fits a nonlinear model to the data, it is considered a special case of multiple linear regression because the regression function ￼ is linear in the unknown parameters that are estimated from the data.\n",
    "\n",
    "How Polynomial Regression Works\n",
    "\n",
    "In polynomial regression, the data is fit using a polynomial equation, which can provide a good approximation to the relationship between the variables. The general polynomial regression model is expressed as:\n",
    "\n",
    "￼\n",
    "\n",
    "Here:\n",
    "\n",
    "\t•\t￼ is the dependent variable.\n",
    "\t•\t￼ is the independent variable.\n",
    "\t•\t￼ are the coefficients of the model.\n",
    "\t•\t￼ is the degree of the polynomial.\n",
    "\t•\t￼ is the error term, capturing the discrepancy between the observed values and the values predicted by the model.\n",
    "\n",
    "Assumptions of Polynomial Regression\n",
    "\n",
    "While polynomial regression can model nonlinear relationships, it still assumes:\n",
    "\n",
    "\t1.\tLinearity in Parameters: The regression function is linear in the parameters even though it can handle non-linear relationships between variables.\n",
    "\t2.\tIndependence of Errors: The errors in the regression model are assumed to be independent.\n",
    "\t3.\tHomoscedasticity: The variance of the error terms is constant across all levels of the independent variables.\n",
    "\t4.\tNormal Distribution of Errors: For inference using the least squares estimates, the error terms are assumed to be normally distributed.\n",
    "\n",
    "Fitting the Model\n",
    "\n",
    "Polynomial regression can be fit using the method of least squares, where the objective is to minimize the sum of the squared residuals (the differences between observed and predicted values). Polynomial features of the independent variables are created (e.g., ￼) and then used in a multiple linear regression model.\n",
    "\n",
    "Advantages of Polynomial Regression\n",
    "\n",
    "\t•\tFlexibility: Polynomial regression can fit a wide range of curvature in the data, making it very flexible for modeling more complex patterns.\n",
    "\t•\tEase of Use: Like linear regression, polynomial regression models can be easily implemented and interpreted using standard statistical software.\n",
    "\n",
    "Disadvantages and Considerations\n",
    "\n",
    "\t•\tOverfitting: Higher-degree polynomials can lead to overfitting, where the model learns the training data too well, including the noise, resulting in poor generalization to new data.\n",
    "\t•\tChoice of Degree: Selecting the right degree for the polynomial is crucial. Too low a degree can lead to underfitting, while too high a degree can lead to overfitting.\n",
    "\t•\tComputational Complexity: As the degree of the polynomial increases, so does the complexity of the model, which can lead to increased computational costs.\n",
    "\n",
    "Applications\n",
    "\n",
    "Polynomial regression is used in various applications such as:\n",
    "\n",
    "\t•\tEconomics: For modeling economic growth patterns or the distribution of income.\n",
    "\t•\tScience and Engineering: In fields where the relationship between variables is inherently non-linear.\n",
    "\t•\tBusiness Analytics: For sales forecasting and risk management where trends often follow non-linear patterns.\n",
    "\n",
    "Conclusion\n",
    "\n",
    "Polynomial regression is a useful technique for modeling relationships between variables where the relationship is not linear. However, care must be taken to avoid overfitting and to select an appropriate degree of the polynomial based on the data and the domain knowledge. Regularization techniques and cross-validation can also be useful tools in polynomial regression to help prevent overfitting and select the optimal model."
   ]
  },
  {
   "cell_type": "code",
   "execution_count": 14,
   "metadata": {},
   "outputs": [
    {
     "name": "stdout",
     "output_type": "stream",
     "text": [
      "Mean Squared Error: 1.287871497731052\n",
      "R2 Score: 0.8185585705771123\n",
      "Coefficients: [[0.         1.48295775 0.46212333]]\n",
      "Coefficients: [1.99341348]\n"
     ]
    },
    {
     "data": {
      "text/plain": [
       "<matplotlib.collections.PathCollection at 0x132546390>"
      ]
     },
     "execution_count": 14,
     "metadata": {},
     "output_type": "execute_result"
    },
    {
     "data": {
      "image/png": "[encoded data removed]",
      "text/plain": [
       "<Figure size 640x480 with 1 Axes>"
      ]
     },
     "metadata": {},
     "output_type": "display_data"
    }
   ],
   "source": [
    "import numpy as np\n",
    "import matplotlib.pyplot as plt\n",
    "import pandas as pd\n",
    "\n",
    "X = 6 * np.random.rand(100, 1) - 3\n",
    "y = 0.5 * X**2 + 1.5 * X + 2 + np.random.randn(100, 1)\n",
    "# quadratic equation used 0.5x^2 + 1.5x + 2 \n",
    "from sklearn.model_selection import train_test_split\n",
    "X_train, X_test, y_train, y_test = train_test_split(X, y, test_size = 0.2, random_state = 22)\n",
    "\n",
    "# Implement Linear Regression\n",
    "from sklearn.linear_model import LinearRegression\n",
    "regression = LinearRegression()\n",
    "\n",
    "regression.fit(X_train, y_train)\n",
    "\n",
    "from sklearn.preprocessing import PolynomialFeatures\n",
    "\n",
    "ploy = PolynomialFeatures(degree = 2, include_bias=True)\n",
    "X_poly = ploy.fit_transform(X_train)\n",
    "X_poly_test = ploy.transform(X_test)\n",
    "\n",
    "from sklearn.metrics import mean_squared_error, r2_score\n",
    "regression.fit(X_poly, y_train)\n",
    "y_pred = regression.predict(X_poly_test)\n",
    "mse = mean_squared_error(y_test, y_pred)\n",
    "print('Mean Squared Error:', mse)\n",
    "r2 = r2_score(y_test, y_pred)\n",
    "print('R2 Score:', r2)\n",
    "\n",
    "print('Coefficients:', regression.coef_)\n",
    "\n",
    "print('Coefficients:', regression.intercept_)\n",
    "\n",
    "plt.scatter(X_train, regression.predict(X_poly), color = 'r')\n",
    "plt.scatter(X_train, y_train, color = 'g')"
   ]
  },
  {
   "cell_type": "code",
   "execution_count": 15,
   "metadata": {},
   "outputs": [
    {
     "name": "stdout",
     "output_type": "stream",
     "text": [
      "Mean Squared Error: 1.0667500209695837\n"
     ]
    },
    {
     "data": {
      "image/png": "[encoded data removed]",
      "text/plain": [
       "<Figure size 640x480 with 1 Axes>"
      ]
     },
     "metadata": {},
     "output_type": "display_data"
    }
   ],
   "source": [
    "import numpy as np\n",
    "import matplotlib.pyplot as plt\n",
    "\n",
    "# Generating synthetic data\n",
    "np.random.seed(0)\n",
    "X = 6 * np.random.rand(100, 1) - 3\n",
    "y = 0.5 * X**2 + 1.5 * X + 2 + np.random.randn(100, 1)\n",
    "\n",
    "# Function to create polynomial features\n",
    "def create_polynomial_features(X, degree):\n",
    "    n = X.shape[0]\n",
    "    X_poly = np.ones((n, 1))  # start with a column of ones for the intercept\n",
    "    for i in range(1, degree + 1):\n",
    "        X_poly = np.hstack((X_poly, X**i))\n",
    "    return X_poly\n",
    "\n",
    "# Creating polynomial features\n",
    "X_poly = create_polynomial_features(X, 2)\n",
    "\n",
    "# Splitting the data into training and testing sets\n",
    "np.random.seed(22)\n",
    "indices = np.random.permutation(X_poly.shape[0])\n",
    "train_idx, test_idx = indices[:80], indices[80:]\n",
    "X_train, X_test = X_poly[train_idx], X_poly[test_idx]\n",
    "y_train, y_test = y[train_idx], y[test_idx]\n",
    "\n",
    "# Linear regression using the normal equation\n",
    "def normal_equation(X, y):\n",
    "    theta = np.linalg.inv(X.T.dot(X)).dot(X.T).dot(y)\n",
    "    return theta\n",
    "\n",
    "# Training the model\n",
    "theta = normal_equation(X_train, y_train)\n",
    "\n",
    "# Prediction function\n",
    "def predict(X, theta):\n",
    "    return X.dot(theta)\n",
    "\n",
    "# Predicting values\n",
    "y_pred = predict(X_test, theta)\n",
    "\n",
    "# Calculating Mean Squared Error\n",
    "def mean_squared_error(y_true, y_pred):\n",
    "    mse = np.mean((y_true - y_pred)**2)\n",
    "    return mse\n",
    "\n",
    "mse = mean_squared_error(y_test, y_pred)\n",
    "print('Mean Squared Error:', mse)\n",
    "\n",
    "# Visualizing the results\n",
    "plt.scatter(X[:, 0], y, color='blue', label='Actual')\n",
    "plt.scatter(X_test[:, 1], y_pred, color='red', label='Predicted', alpha=0.5)\n",
    "plt.title('Polynomial Regression Fit')\n",
    "plt.xlabel('X')\n",
    "plt.ylabel('y')\n",
    "plt.legend()\n",
    "plt.show()"
   ]
  },
  {
   "cell_type": "markdown",
   "metadata": {},
   "source": [
    "# Logistic Regression"
   ]
  },
  {
   "cell_type": "markdown",
   "metadata": {},
   "source": [
    "Logistic Regression: An Overview\n",
    "\n",
    "Logistic Regression is a statistical model that in its basic form uses a logistic function to model a binary dependent variable, although many more complex extensions exist. In regression analysis, logistic regression (or logit regression) is estimating the parameters of a logistic model; it is a form of binomial regression.\n",
    "\n",
    "How Logistic Regression Works\n",
    "\n",
    "Unlike linear regression which outputs continuous number values, logistic regression transforms its output using the logistic sigmoid function to return a probability value which can then be mapped to two or more discrete classes.\n",
    "\n",
    "Binary Logistic Regression\n",
    "\n",
    "The most common form of logistic regression is binary logistic regression, which is used when the dependent variable is binary (0 or 1; true or false; yes or no). The goal is to find the best-fitting model to describe the relationship between the dependent variable and a set of independent variables.\n",
    "\n",
    "Mathematical Model\n",
    "\n",
    "The probability of the default class (usually “1”) can be calculated using the sigmoid function:\n",
    "\n",
    "￼\n",
    "\n",
    "Here:\n",
    "\n",
    "\t•\t￼ is the probability of the dependent variable equaling a “1”.\n",
    "\t•\t￼ are the regression coefficients.\n",
    "\t•\t￼ are the feature values.\n",
    "\n",
    "Decision Boundary\n",
    "\n",
    "Logistic regression creates a decision boundary to classify the observations. For instance, in binary classification, a common threshold value is 0.5. Observations with a probability higher than 0.5 are classified as 1, and those less than 0.5 as 0.\n",
    "\n",
    "Multiclass Logistic Regression\n",
    "\n",
    "Logistic regression can be extended to handle multiple classes through techniques such as:\n",
    "\n",
    "\t•\tOne-vs-Rest (OvR): Where a separate model is built for each class to distinguish it from all other classes.\n",
    "\t•\tMultinomial Logistic Regression: Where the logistic function is replaced with a softmax function to predict multiple classes directly without having to combine binary classifiers.\n",
    "\n",
    "Estimation Techniques\n",
    "\n",
    "Parameters of the logistic regression model are typically estimated using maximum likelihood estimation (MLE), which seeks to find the parameter values that maximize the likelihood of the observed sample.\n",
    "\n",
    "Key Features\n",
    "\n",
    "\t•\tInterpretability: Logistic regression coefficients represent the logarithm of the odds of the event happening, which can be exponentiated to obtain odds ratios.\n",
    "\t•\tModeling Probabilities: Unlike many other classification models, logistic regression estimates the probabilities of classifications.\n",
    "\t•\tFeature Importance: Coefficients of variables give insights into their importance to the output variable, with positive coefficients increasing log-odds of the positive class and negative coefficients decreasing it.\n",
    "\n",
    "Applications\n",
    "\n",
    "Logistic regression is widely used in various fields including medical fields and social sciences, for instance:\n",
    "\n",
    "\t•\tPredicting whether a patient has a disease or not, based on observed characteristics of the patient (age, body mass index, etc.).\n",
    "\t•\tAn election outcome as a function of demographic characteristics.\n",
    "\n",
    "Limitations\n",
    "\n",
    "\t•\tAssumption of Linearity: Logistic regression assumes linearity of independent variables and log odds. Although this might be a strong assumption, it makes the model easy to interpret.\n",
    "\t•\tSensitive to Imbalance: Like many other classifiers, logistic regression might perform poorly with unbalanced datasets.\n",
    "\t•\tOverfitting and Underfitting: Logistic regression can overfit on datasets with many features and underfit on datasets with fewer samples.\n",
    "\n",
    "To improve the performance of logistic regression, feature engineering, choosing effective regularization techniques, and using ensemble methods can be considered. These enhancements help in making the model robust to overfitting and more generalizable to unseen data."
   ]
  },
  {
   "cell_type": "code",
   "execution_count": 17,
   "metadata": {},
   "outputs": [
    {
     "name": "stdout",
     "output_type": "stream",
     "text": [
      "0.99\n",
      "[[140   2]\n",
      " [  1 157]]\n",
      "              precision    recall  f1-score   support\n",
      "\n",
      "           0       0.99      0.99      0.99       142\n",
      "           1       0.99      0.99      0.99       158\n",
      "\n",
      "    accuracy                           0.99       300\n",
      "   macro avg       0.99      0.99      0.99       300\n",
      "weighted avg       0.99      0.99      0.99       300\n",
      "\n"
     ]
    }
   ],
   "source": [
    "import pandas as pd\n",
    "import numpy as np\n",
    "import matplotlib.pyplot as plt\n",
    "import seaborn as sns\n",
    "\n",
    "from sklearn.datasets import make_classification\n",
    "X, y = make_classification(n_samples=1000, n_features=10, n_classes=2, random_state=22)\n",
    "\n",
    "from sklearn.model_selection import train_test_split\n",
    "X_train, X_test, y_train, y_test = train_test_split(X, y, test_size=0.3, random_state=22)\n",
    "\n",
    "# Model training \n",
    "from sklearn.linear_model import LogisticRegression\n",
    "logistic = LogisticRegression()\n",
    "\n",
    "logistic.fit(X_train, y_train)\n",
    "\n",
    "y_pred = logistic.predict(X_test)\n",
    "\n",
    "from sklearn.metrics import accuracy_score, confusion_matrix, classification_report\n",
    "\n",
    "score = accuracy_score(y_test, y_pred)\n",
    "print(score)\n",
    "\n",
    "cm = confusion_matrix(y_test, y_pred)\n",
    "print(cm)\n",
    "\n",
    "cr = classification_report(y_test, y_pred)\n",
    "print(cr)"
   ]
  },
  {
   "cell_type": "code",
   "execution_count": 18,
   "metadata": {},
   "outputs": [
    {
     "name": "stdout",
     "output_type": "stream",
     "text": [
      "Accuracy: 0.99\n",
      "Confusion Matrix:\n",
      " [[141.   1.]\n",
      " [  2. 156.]]\n"
     ]
    }
   ],
   "source": [
    "import numpy as np\n",
    "import matplotlib.pyplot as plt\n",
    "from sklearn.datasets import make_classification\n",
    "from sklearn.model_selection import train_test_split\n",
    "\n",
    "# Generating synthetic data for classification\n",
    "X, y = make_classification(n_samples=1000, n_features=10, n_classes=2, random_state=22)\n",
    "X_train, X_test, y_train, y_test = train_test_split(X, y, test_size=0.3, random_state=22)\n",
    "\n",
    "# Sigmoid function\n",
    "def sigmoid(z):\n",
    "    return 1 / (1 + np.exp(-z))\n",
    "\n",
    "# Loss function\n",
    "def compute_loss(y, y_pred):\n",
    "    return -np.mean(y * np.log(y_pred) + (1 - y) * np.log(1 - y_pred))\n",
    "\n",
    "# Gradient descent for logistic regression\n",
    "def train_logistic_regression(X, y, lr=0.01, epochs=1000):\n",
    "    m, n = X.shape\n",
    "    weights = np.zeros(n)\n",
    "    bias = 0\n",
    "    \n",
    "    for _ in range(epochs):\n",
    "        linear_model = np.dot(X, weights) + bias\n",
    "        y_pred = sigmoid(linear_model)\n",
    "        \n",
    "        dw = (1/m) * np.dot(X.T, (y_pred - y))\n",
    "        db = (1/m) * np.sum(y_pred - y)\n",
    "        \n",
    "        weights -= lr * dw\n",
    "        bias -= lr * db\n",
    "        \n",
    "    return weights, bias\n",
    "\n",
    "# Training the model\n",
    "weights, bias = train_logistic_regression(X_train, y_train)\n",
    "\n",
    "# Prediction function\n",
    "def predict(X, weights, bias):\n",
    "    linear_model = np.dot(X, weights) + bias\n",
    "    y_pred = sigmoid(linear_model)\n",
    "    return [1 if i > 0.5 else 0 for i in y_pred]\n",
    "\n",
    "# Making predictions\n",
    "y_pred = predict(X_test, weights, bias)\n",
    "\n",
    "# Evaluating the model\n",
    "def accuracy(y_true, y_pred):\n",
    "    accuracy = np.sum(y_true == y_pred) / len(y_true)\n",
    "    return accuracy\n",
    "\n",
    "acc = accuracy(y_test, y_pred)\n",
    "print('Accuracy:', acc)\n",
    "\n",
    "# Simple function to calculate confusion matrix\n",
    "def confusion_matrix(y_true, y_pred):\n",
    "    cm = np.zeros((2, 2))\n",
    "    for t, p in zip(y_true, y_pred):\n",
    "        cm[t][p] += 1\n",
    "    return cm\n",
    "\n",
    "cm = confusion_matrix(y_test, y_pred)\n",
    "print('Confusion Matrix:\\n', cm)"
   ]
  },
  {
   "cell_type": "markdown",
   "metadata": {},
   "source": [
    "# Gradient Descent"
   ]
  },
  {
   "cell_type": "markdown",
   "metadata": {},
   "source": [
    "Gradient Descent: An Overview\n",
    "\n",
    "Gradient Descent is a first-order iterative optimization algorithm for finding a local minimum of a differentiable function. It’s commonly used in machine learning and deep learning for minimizing a cost function, which quantifies the error or loss of a model relative to its performance on the training data.\n",
    "\n",
    "How Gradient Descent Works\n",
    "\n",
    "The fundamental principle behind gradient descent is to update the parameters of the model in the direction that minimally decreases the cost function. The steps involved are typically:\n",
    "\n",
    "\t1.\tInitialization: Start with random values for the parameters of the model (weights and biases in the case of a neural network).\n",
    "\t2.\tCompute Gradient: Calculate the gradient of the cost function with respect to each parameter. The gradient is a vector that contains the partial derivatives of the cost function relative to each parameter.\n",
    "\t3.\tUpdate Parameters: Adjust the parameters in the direction that reduces the cost function. This is done by subtracting a fraction of the gradient from the current parameter values. The size of this step is determined by the learning rate, a hyperparameter that you must choose ahead of time.\n",
    "\t4.\tRepeat: Repeat the process until the cost function converges to a minimum value, the parameters stabilize, or a set number of iterations is reached.\n",
    "\n",
    "Mathematical Representation\n",
    "\n",
    "For a function ￼, where ￼ represents the parameters of the model, the update rule for each iteration of gradient descent is:\n",
    "\n",
    "￼\n",
    "\n",
    "Here:\n",
    "\n",
    "\t•\t￼ are the parameters at the current step.\n",
    "\t•\t￼ is the learning rate.\n",
    "\t•\t￼ is the gradient of the function at ￼.\n",
    "\n",
    "Variants of Gradient Descent\n",
    "\n",
    "\t1.\tBatch Gradient Descent: Computes the gradient using the whole dataset. This method is precise but can be very slow and computationally expensive with large datasets.\n",
    "\t2.\tStochastic Gradient Descent (SGD): Computes the gradient using a single sample at each iteration. This variant is much faster and can navigate out of local minima effectively but may introduce a lot of variance in the parameter updates.\n",
    "\t3.\tMini-batch Gradient Descent: Strikes a balance between batch and stochastic versions by computing the gradient against a subset of the data. This is the most commonly used variant in practice due to its efficiency and convergence stability.\n",
    "\n",
    "Key Challenges\n",
    "\n",
    "\t•\tChoosing a Proper Learning Rate: If the learning rate is too high, the algorithm might overshoot the minimum. If it’s too low, convergence becomes slower, potentially stalling the algorithm if it hits a plateau or gets stuck in a local minimum.\n",
    "\t•\tConvergence Issues: Especially with non-convex functions, finding the global minimum is not guaranteed, and the algorithm might settle at a suboptimal local minimum or a saddle point.\n",
    "\t•\tScaling and Feature Normalization: Gradient descent is sensitive to the scale of the features, so appropriate scaling or normalization is typically required to ensure stable and fast convergence.\n",
    "\n",
    "Applications\n",
    "\n",
    "Gradient descent is foundational in training various types of machine learning models, including linear regression, logistic regression, and neural networks. Its flexibility and simplicity make it suitable for a wide range of problems across optimization and data fitting in many scientific and engineering disciplines.\n",
    "\n",
    "By carefully tuning the learning rate and choosing the right variant for the task, gradient descent can be a powerful tool for optimizing complex models efficiently."
   ]
  },
  {
   "cell_type": "code",
   "execution_count": 19,
   "metadata": {},
   "outputs": [
    {
     "name": "stdout",
     "output_type": "stream",
     "text": [
      "Mean Squared Error: 0.01289836813191519\n"
     ]
    }
   ],
   "source": [
    "import numpy as np\n",
    "from sklearn.datasets import make_regression\n",
    "from sklearn.model_selection import train_test_split\n",
    "from sklearn.linear_model import SGDRegressor\n",
    "from sklearn.metrics import mean_squared_error\n",
    "from sklearn.preprocessing import StandardScaler\n",
    "\n",
    "# Generate synthetic regression data\n",
    "X, y = make_regression(n_samples=1000, n_features=20, noise=0.1, random_state=42)\n",
    "\n",
    "# Split the data into training and testing sets\n",
    "X_train, X_test, y_train, y_test = train_test_split(X, y, test_size=0.2, random_state=42)\n",
    "\n",
    "# Feature scaling for better performance of SGD\n",
    "scaler = StandardScaler()\n",
    "X_train_scaled = scaler.fit_transform(X_train)\n",
    "X_test_scaled = scaler.transform(X_test)\n",
    "\n",
    "# Create an SGDRegressor model\n",
    "sgd_reg = SGDRegressor(max_iter=1000, tol=1e-3, penalty=None, eta0=0.1, random_state=42)\n",
    "\n",
    "# Fit the model using the training data\n",
    "sgd_reg.fit(X_train_scaled, y_train)\n",
    "\n",
    "# Predict using the test data\n",
    "y_pred = sgd_reg.predict(X_test_scaled)\n",
    "\n",
    "# Evaluate the model\n",
    "mse = mean_squared_error(y_test, y_pred)\n",
    "print(\"Mean Squared Error:\", mse)"
   ]
  },
  {
   "cell_type": "code",
   "execution_count": 20,
   "metadata": {},
   "outputs": [
    {
     "name": "stdout",
     "output_type": "stream",
     "text": [
      "Mean Squared Error: 0.01142753756217735\n"
     ]
    }
   ],
   "source": [
    "import numpy as np\n",
    "from sklearn.datasets import make_regression\n",
    "from sklearn.model_selection import train_test_split\n",
    "from sklearn.preprocessing import StandardScaler\n",
    "\n",
    "# Generate synthetic data\n",
    "X, y = make_regression(n_samples=1000, n_features=20, noise=0.1, random_state=42)\n",
    "y = y.reshape(-1, 1)  # Reshape y to make it a column vector\n",
    "\n",
    "# Add intercept term\n",
    "X = np.c_[np.ones((X.shape[0], 1)), X]\n",
    "\n",
    "# Split the data into training and testing sets\n",
    "X_train, X_test, y_train, y_test = train_test_split(X, y, test_size=0.2, random_state=42)\n",
    "\n",
    "# Feature scaling\n",
    "scaler = StandardScaler()\n",
    "X_train[:, 1:] = scaler.fit_transform(X_train[:, 1:])\n",
    "X_test[:, 1:] = scaler.transform(X_test[:, 1:])\n",
    "\n",
    "# Gradient Descent settings\n",
    "learning_rate = 0.01\n",
    "n_iterations = 1000\n",
    "m = X_train.shape[0]\n",
    "\n",
    "# Initialize theta (weights)\n",
    "theta = np.random.randn(X_train.shape[1], 1)\n",
    "\n",
    "# Gradient Descent\n",
    "for iteration in range(n_iterations):\n",
    "    gradients = 2/m * X_train.T.dot(X_train.dot(theta) - y_train)\n",
    "    theta -= learning_rate * gradients\n",
    "\n",
    "# Predict\n",
    "y_pred = X_test.dot(theta)\n",
    "\n",
    "# Calculate MSE\n",
    "mse = np.mean((y_test - y_pred) ** 2)\n",
    "print(\"Mean Squared Error:\", mse)"
   ]
  },
  {
   "cell_type": "code",
   "execution_count": null,
   "metadata": {},
   "outputs": [],
   "source": []
  }
 ],
 "metadata": {
  "kernelspec": {
   "display_name": "Python 3",
   "language": "python",
   "name": "python3"
  },
  "language_info": {
   "codemirror_mode": {
    "name": "ipython",
    "version": 3
   },
   "file_extension": ".py",
   "mimetype": "text/x-python",
   "name": "python",
   "nbconvert_exporter": "python",
   "pygments_lexer": "ipython3",
   "version": "3.12.6"
  }
 },
 "nbformat": 4,
 "nbformat_minor": 2
}
