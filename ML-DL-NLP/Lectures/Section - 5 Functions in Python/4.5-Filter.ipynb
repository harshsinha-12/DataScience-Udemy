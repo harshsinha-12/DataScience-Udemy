{
 "cells": [
  {
   "cell_type": "markdown",
   "metadata": {},
   "source": [
    "The filter() function constructs an iterator from elements of an iterable for which a function returns true. It is used to filter out items from a list (or any other iterable) based on a condition."
   ]
  },
  {
   "cell_type": "markdown",
   "metadata": {},
   "source": [
    "The filter function is a powerful tool for creating iterators that filter items out of an iterable based on a function. It is Commonly used for data cleaning, filtering objects, and removing unwanted elements from list. By mastering filter You can write more concise and efficient code for processing and manipulating collection in Python."
   ]
  },
  {
   "cell_type": "code",
   "execution_count": 1,
   "metadata": {},
   "outputs": [],
   "source": [
    "def even(num):\n",
    "    if num % 2 == 0:\n",
    "        return True"
   ]
  },
  {
   "cell_type": "code",
   "execution_count": 2,
   "metadata": {},
   "outputs": [
    {
     "data": {
      "text/plain": [
       "True"
      ]
     },
     "execution_count": 2,
     "metadata": {},
     "output_type": "execute_result"
    }
   ],
   "source": [
    "even(4)"
   ]
  },
  {
   "cell_type": "code",
   "execution_count": 4,
   "metadata": {},
   "outputs": [
    {
     "name": "stdout",
     "output_type": "stream",
     "text": [
      "[2, 4, 6, 8, 10]\n"
     ]
    }
   ],
   "source": [
    "lst = [1, 2, 3, 4, 5, 6, 7, 8, 9, 10]\n",
    "even_lst = list(filter(even, lst)) # filter() function takes a function and a list as arguments\n",
    "print(even_lst)"
   ]
  },
  {
   "cell_type": "code",
   "execution_count": 8,
   "metadata": {},
   "outputs": [
    {
     "name": "stdout",
     "output_type": "stream",
     "text": [
      "[2, 4, 6, 8, 10]\n",
      "[6, 7, 8, 9, 10]\n"
     ]
    }
   ],
   "source": [
    "## Using lambda function\n",
    "even_lst = list(filter(lambda x: x % 2 == 0, lst))\n",
    "greater_than_5 = list(filter(lambda x: x > 5, lst))\n",
    "print(even_lst)\n",
    "print(greater_than_5)"
   ]
  },
  {
   "cell_type": "code",
   "execution_count": 10,
   "metadata": {},
   "outputs": [
    {
     "name": "stdout",
     "output_type": "stream",
     "text": [
      "[6, 8, 10]\n"
     ]
    }
   ],
   "source": [
    "# filter with lambda and multiple conditions\n",
    "greater_than_5_and_even = list(filter(lambda x: x > 5 and x % 2 == 0, lst))\n",
    "print(greater_than_5_and_even)"
   ]
  },
  {
   "cell_type": "code",
   "execution_count": 12,
   "metadata": {},
   "outputs": [
    {
     "name": "stdout",
     "output_type": "stream",
     "text": [
      "[{'name': 'Jane', 'age': 25}, {'name': 'Jill', 'age': 20}]\n"
     ]
    }
   ],
   "source": [
    "# Filter to check age greater than 18 in dictionary\n",
    "people = [\n",
    "    {'name': 'John', 'age': 15},\n",
    "    {'name': 'Jane', 'age': 25},\n",
    "    {'name': 'Jim', 'age': 10},\n",
    "    {'name': 'Jill', 'age': 20}\n",
    "]\n",
    "\n",
    "adults = list(filter(lambda x: x['age'] > 18, people))\n",
    "print(adults)\n"
   ]
  },
  {
   "cell_type": "code",
   "execution_count": null,
   "metadata": {},
   "outputs": [],
   "source": []
  }
 ],
 "metadata": {
  "kernelspec": {
   "display_name": "Python 3",
   "language": "python",
   "name": "python3"
  },
  "language_info": {
   "codemirror_mode": {
    "name": "ipython",
    "version": 3
   },
   "file_extension": ".py",
   "mimetype": "text/x-python",
   "name": "python",
   "nbconvert_exporter": "python",
   "pygments_lexer": "ipython3",
   "version": "3.12.5"
  }
 },
 "nbformat": 4,
 "nbformat_minor": 2
}
