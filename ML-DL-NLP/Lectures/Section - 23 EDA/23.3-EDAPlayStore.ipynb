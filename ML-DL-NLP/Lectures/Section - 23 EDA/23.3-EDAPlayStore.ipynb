{
 "cells": [
  {
   "cell_type": "markdown",
   "metadata": {},
   "source": [
    "EDA And Feature Engineering Of Google Play Store Dataset\n",
    "\n",
    "1. Problem statement. Today, 1.85 million different apps are available for users to download. Android users have even more from which to choose, with 2.56 million available through the Google Play Store. These apps have come to play a huge role in the way we live our lives today. Our Objective is to find the Most Popular Category, find the App with largest number of installs, the App with largest size etc.\n",
    "\n",
    "2. Data Collection.\n",
    "\n",
    "The data consists of 20 column and 10841 rows.\n",
    "\n",
    "Steps We Are Going to Follow\n",
    "\n",
    "1. Data Clearning\n",
    "\n",
    "2. Exploratory Data Analysis\n",
    "\n",
    "3. Featur eEngineering"
   ]
  },
  {
   "cell_type": "code",
   "execution_count": null,
   "metadata": {},
   "outputs": [],
   "source": []
  }
 ],
 "metadata": {
  "kernelspec": {
   "display_name": "Python 3",
   "language": "python",
   "name": "python3"
  },
  "language_info": {
   "name": "python",
   "version": "3.12.6"
  }
 },
 "nbformat": 4,
 "nbformat_minor": 2
}
