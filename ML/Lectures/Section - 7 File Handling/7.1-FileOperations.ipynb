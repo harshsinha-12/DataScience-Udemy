{
 "cells": [
  {
   "cell_type": "markdown",
   "metadata": {},
   "source": [
    "File handling is a crucial part of any programming language. Python provides built-in functions and methods to read from and write files, both text and binary. This lesson will cover the basics of file handling, including reading and writing text files and binary files."
   ]
  },
  {
   "cell_type": "code",
   "execution_count": 3,
   "metadata": {},
   "outputs": [
    {
     "name": "stdout",
     "output_type": "stream",
     "text": [
      "TATA IMAGINATIONCHALLENGE 2024\n",
      "TAS (TATA ADMINISTRATIVE SERVICES) PRE-PLACEMENT\n",
      "OPPORTUNITY GUIDELINES\n",
      "\n",
      "Guidelines common to Student Track and In-house Track\n",
      "\n",
      "1) Out of the Top 50 finalists, a one-time opportunity to join TAS will be given (basis eligibility):\n",
      "• 13 Winners will receive an opportunity for a one-time PPI with TAS\n",
      "• An additional 5 finalists will receive a Wild card Pre-placement opportunity with TAS\n",
      "• From the remaining 32 finalists, some would receive a pre-placement opportunity with\n",
      "TAS at the Presentation Round (if shortlisted).\n",
      "\n",
      "2) Pre-placement process will be conducted for the respective TAS batch as applicable basis their\n",
      "eligibility, closer to the date of commencement (typically the program commences in June/July\n",
      "every year).\n",
      "\n",
      "3) Pre-placement opportunity participant should not have more than 6 years of total professional\n",
      "work experience post the Undergraduate degree, as of April 1st of the year of joining the TAS\n",
      "batch, i.e. either April 2025 or 2026.\n",
      "(For the computation of total professional work experience, Full-time, Permanent, Parttime, Temporary, Consultant, Retainership assignments/ employment will be considered.\n",
      "Short-term/ live project internships as part of a course/ curriculum will not be considered as\n",
      "work experience.)\n",
      "\n",
      "Guidelinesspecific to Student Track\n",
      "1) Pre-placement opportunity participant should have successfully completed the undergraduate\n",
      "or post-graduate program (with no pending backlog/ exams/ projects/ submissions) at the time\n",
      "of joining the TAS batch.\n",
      "\n",
      "2) Pre-placement opportunity participant should have a First Class grade (60% or equivalent) in\n",
      "Undergraduate, as well as in the Post-graduate program, if joining the TAS program.\n",
      "Guidelinesspecific to In-house track\n",
      "\n",
      "1) Pre-placement opportunity participant should continue to be on the permanent rolls of a Tata\n",
      "company or Tata JV company after winning the competition and when appearing for the PPI.\n",
      "Those who have exited the company will not be eligible for the TAS PPI.\n",
      "\n",
      "2) Pre-placement opportunity participant should have a full-time Bachelor/ Undergraduate\n",
      "degree in any discipline.\n",
      "\n",
      "3) Pre-placement opportunity participant should have minimum 2 years of current continuous\n",
      "service and 2 continuous appraisal cycles in the Tata group as of April 1\n",
      "st, 2025 or 2026\n",
      "(depending on the year of joining the TAS program).\n",
      "\n",
      "Exception to the above are, all Management Trainees/ Graduate Engineer Trainees/\n",
      "employees of other structured group programs who have joined the group on or before\n",
      "September 15th\n",
      ", 2023 (for those joining TAS batch 2025), or September 15th\n",
      ", 2024 (for\n",
      "those joining TAS batch 2026).\n",
      "\n",
      "4) Applicants currently on sabbatical, study leave, medical leave and leave without pay will have\n",
      "to join the TAS program on the declared date of commencement in 2025 or 2026. They will\n",
      "need to furnish an approval from the respective company’s HR department that they are on the\n",
      "rolls of the company and viewed as continuous service at the time of joining the TAS batch.\n"
     ]
    }
   ],
   "source": [
    "# Read a file\n",
    "\n",
    "with open('file.txt', 'r') as file:\n",
    "    content = file.read()\n",
    "    print(content)"
   ]
  },
  {
   "cell_type": "code",
   "execution_count": 4,
   "metadata": {},
   "outputs": [
    {
     "name": "stdout",
     "output_type": "stream",
     "text": [
      "TATA IMAGINATIONCHALLENGE 2024\n",
      "TAS (TATA ADMINISTRATIVE SERVICES) PRE-PLACEMENT\n",
      "OPPORTUNITY GUIDELINES\n",
      "\n",
      "Guidelines common to Student Track and In-house Track\n",
      "\n",
      "1) Out of the Top 50 finalists, a one-time opportunity to join TAS will be given (basis eligibility):\n",
      "• 13 Winners will receive an opportunity for a one-time PPI with TAS\n",
      "• An additional 5 finalists will receive a Wild card Pre-placement opportunity with TAS\n",
      "• From the remaining 32 finalists, some would receive a pre-placement opportunity with\n",
      "TAS at the Presentation Round (if shortlisted).\n",
      "\n",
      "2) Pre-placement process will be conducted for the respective TAS batch as applicable basis their\n",
      "eligibility, closer to the date of commencement (typically the program commences in June/July\n",
      "every year).\n",
      "\n",
      "3) Pre-placement opportunity participant should not have more than 6 years of total professional\n",
      "work experience post the Undergraduate degree, as of April 1st of the year of joining the TAS\n",
      "batch, i.e. either April 2025 or 2026.\n",
      "(For the computation of total professional work experience, Full-time, Permanent, Parttime, Temporary, Consultant, Retainership assignments/ employment will be considered.\n",
      "Short-term/ live project internships as part of a course/ curriculum will not be considered as\n",
      "work experience.)\n",
      "\n",
      "Guidelinesspecific to Student Track\n",
      "1) Pre-placement opportunity participant should have successfully completed the undergraduate\n",
      "or post-graduate program (with no pending backlog/ exams/ projects/ submissions) at the time\n",
      "of joining the TAS batch.\n",
      "\n",
      "2) Pre-placement opportunity participant should have a First Class grade (60% or equivalent) in\n",
      "Undergraduate, as well as in the Post-graduate program, if joining the TAS program.\n",
      "Guidelinesspecific to In-house track\n",
      "\n",
      "1) Pre-placement opportunity participant should continue to be on the permanent rolls of a Tata\n",
      "company or Tata JV company after winning the competition and when appearing for the PPI.\n",
      "Those who have exited the company will not be eligible for the TAS PPI.\n",
      "\n",
      "2) Pre-placement opportunity participant should have a full-time Bachelor/ Undergraduate\n",
      "degree in any discipline.\n",
      "\n",
      "3) Pre-placement opportunity participant should have minimum 2 years of current continuous\n",
      "service and 2 continuous appraisal cycles in the Tata group as of April 1\n",
      "st, 2025 or 2026\n",
      "(depending on the year of joining the TAS program).\n",
      "\n",
      "Exception to the above are, all Management Trainees/ Graduate Engineer Trainees/\n",
      "employees of other structured group programs who have joined the group on or before\n",
      "September 15th\n",
      ", 2023 (for those joining TAS batch 2025), or September 15th\n",
      ", 2024 (for\n",
      "those joining TAS batch 2026).\n",
      "\n",
      "4) Applicants currently on sabbatical, study leave, medical leave and leave without pay will have\n",
      "to join the TAS program on the declared date of commencement in 2025 or 2026. They will\n",
      "need to furnish an approval from the respective company’s HR department that they are on the\n",
      "rolls of the company and viewed as continuous service at the time of joining the TAS batch."
     ]
    }
   ],
   "source": [
    "# line by line\n",
    "with open('file.txt', 'r') as file:\n",
    "    for line in file:\n",
    "        print(line, end='')"
   ]
  },
  {
   "cell_type": "code",
   "execution_count": 5,
   "metadata": {},
   "outputs": [
    {
     "name": "stdout",
     "output_type": "stream",
     "text": [
      "TATA IMAGINATIONCHALLENGE 2024\n",
      "TAS (TATA ADMINISTRATIVE SERVICES) PRE-PLACEMENT\n",
      "OPPORTUNITY GUIDELINES\n",
      "\n",
      "Guidelines common to Student Track and In-house Track\n",
      "\n",
      "1) Out of the Top 50 finalists, a one-time opportunity to join TAS will be given (basis eligibility):\n",
      "• 13 Winners will receive an opportunity for a one-time PPI with TAS\n",
      "• An additional 5 finalists will receive a Wild card Pre-placement opportunity with TAS\n",
      "• From the remaining 32 finalists, some would receive a pre-placement opportunity with\n",
      "TAS at the Presentation Round (if shortlisted).\n",
      "\n",
      "2) Pre-placement process will be conducted for the respective TAS batch as applicable basis their\n",
      "eligibility, closer to the date of commencement (typically the program commences in June/July\n",
      "every year).\n",
      "\n",
      "3) Pre-placement opportunity participant should not have more than 6 years of total professional\n",
      "work experience post the Undergraduate degree, as of April 1st of the year of joining the TAS\n",
      "batch, i.e. either April 2025 or 2026.\n",
      "(For the computation of total professional work experience, Full-time, Permanent, Parttime, Temporary, Consultant, Retainership assignments/ employment will be considered.\n",
      "Short-term/ live project internships as part of a course/ curriculum will not be considered as\n",
      "work experience.)\n",
      "\n",
      "Guidelinesspecific to Student Track\n",
      "1) Pre-placement opportunity participant should have successfully completed the undergraduate\n",
      "or post-graduate program (with no pending backlog/ exams/ projects/ submissions) at the time\n",
      "of joining the TAS batch.\n",
      "\n",
      "2) Pre-placement opportunity participant should have a First Class grade (60% or equivalent) in\n",
      "Undergraduate, as well as in the Post-graduate program, if joining the TAS program.\n",
      "Guidelinesspecific to In-house track\n",
      "\n",
      "1) Pre-placement opportunity participant should continue to be on the permanent rolls of a Tata\n",
      "company or Tata JV company after winning the competition and when appearing for the PPI.\n",
      "Those who have exited the company will not be eligible for the TAS PPI.\n",
      "\n",
      "2) Pre-placement opportunity participant should have a full-time Bachelor/ Undergraduate\n",
      "degree in any discipline.\n",
      "\n",
      "3) Pre-placement opportunity participant should have minimum 2 years of current continuous\n",
      "service and 2 continuous appraisal cycles in the Tata group as of April 1\n",
      "st, 2025 or 2026\n",
      "(depending on the year of joining the TAS program).\n",
      "\n",
      "Exception to the above are, all Management Trainees/ Graduate Engineer Trainees/\n",
      "employees of other structured group programs who have joined the group on or before\n",
      "September 15th\n",
      ", 2023 (for those joining TAS batch 2025), or September 15th\n",
      ", 2024 (for\n",
      "those joining TAS batch 2026).\n",
      "\n",
      "4) Applicants currently on sabbatical, study leave, medical leave and leave without pay will have\n",
      "to join the TAS program on the declared date of commencement in 2025 or 2026. They will\n",
      "need to furnish an approval from the respective company’s HR department that they are on the\n",
      "rolls of the company and viewed as continuous service at the time of joining the TAS batch.\n"
     ]
    }
   ],
   "source": [
    "# line by line\n",
    "with open('file.txt', 'r') as file:\n",
    "    for line in file:\n",
    "        print(line.strip()) # remove the newline character"
   ]
  },
  {
   "cell_type": "code",
   "execution_count": 9,
   "metadata": {},
   "outputs": [],
   "source": [
    "# Write to a file\n",
    "with open('file.txt', 'w') as file:\n",
    "    file.write('Hello, world!\\n')\n",
    "    file.write('This is a file\\n') # overwrites the file"
   ]
  },
  {
   "cell_type": "code",
   "execution_count": 10,
   "metadata": {},
   "outputs": [
    {
     "name": "stdout",
     "output_type": "stream",
     "text": [
      "Hello, world!\n",
      "This is a file\n",
      "\n"
     ]
    }
   ],
   "source": [
    "with open('file.txt', 'r') as file:\n",
    "    content = file.read()\n",
    "    print(content)"
   ]
  },
  {
   "cell_type": "code",
   "execution_count": 11,
   "metadata": {},
   "outputs": [],
   "source": [
    "with open('file.txt', 'a') as file:\n",
    "    file.write('This is a new line\\n') # appends to the file in new line"
   ]
  },
  {
   "cell_type": "code",
   "execution_count": 12,
   "metadata": {},
   "outputs": [
    {
     "name": "stdout",
     "output_type": "stream",
     "text": [
      "Hello, world!\n",
      "This is a file\n",
      "This is a new line\n",
      "\n"
     ]
    }
   ],
   "source": [
    "with open('file.txt', 'r') as file:\n",
    "    content = file.read()\n",
    "    print(content)"
   ]
  },
  {
   "cell_type": "code",
   "execution_count": 13,
   "metadata": {},
   "outputs": [],
   "source": [
    "# Writing list of lines to a file\n",
    "lines = ['Line 1\\n', 'Line 2\\n', 'Line 3\\n']\n",
    "with open('file.txt', 'w') as file:\n",
    "    file.writelines(lines)"
   ]
  },
  {
   "cell_type": "code",
   "execution_count": 14,
   "metadata": {},
   "outputs": [
    {
     "name": "stdout",
     "output_type": "stream",
     "text": [
      "Line 1\n",
      "Line 2\n",
      "Line 3\n",
      "\n"
     ]
    }
   ],
   "source": [
    "with open('file.txt', 'r') as file:\n",
    "    content = file.read()\n",
    "    print(content)"
   ]
  },
  {
   "cell_type": "code",
   "execution_count": 16,
   "metadata": {},
   "outputs": [],
   "source": [
    "# Binary files .bin\n",
    "with open('file.bin', 'wb') as file:\n",
    "    file.write(b'\\x48\\x65\\x6c\\x6c\\x6f\\x20\\x57\\x6f\\x72\\x6c\\x64\\x21')"
   ]
  },
  {
   "cell_type": "code",
   "execution_count": 17,
   "metadata": {},
   "outputs": [
    {
     "name": "stdout",
     "output_type": "stream",
     "text": [
      "b'Hello World!'\n"
     ]
    }
   ],
   "source": [
    "with open('file.bin', 'rb') as file:\n",
    "    content = file.read()\n",
    "    print(content)"
   ]
  },
  {
   "cell_type": "code",
   "execution_count": 23,
   "metadata": {},
   "outputs": [
    {
     "name": "stdout",
     "output_type": "stream",
     "text": [
      "Line 1\n",
      "Line 2\n",
      "Line 3\n",
      "\n"
     ]
    }
   ],
   "source": [
    "# read content from a source file and write it to a destination file and then read the destination file\n",
    "source = 'file.txt'\n",
    "destination = 'file_copy.txt'\n",
    "with open(source, 'r') as source_file:\n",
    "    content = source_file.read()\n",
    "    with open(destination, 'w') as destination_file:\n",
    "        destination_file.write(content)\n",
    "with open(destination, 'r') as destination_file:\n",
    "    content = destination_file.read()\n",
    "    print(content)"
   ]
  },
  {
   "cell_type": "code",
   "execution_count": 20,
   "metadata": {},
   "outputs": [
    {
     "name": "stdout",
     "output_type": "stream",
     "text": [
      "Lines: 3\n",
      "Words: 6\n",
      "Characters: 21\n"
     ]
    }
   ],
   "source": [
    "# read a text file and count the nmber of lines, words and characters\n",
    "file_name = 'file.txt'\n",
    "with open(file_name, 'r') as file:\n",
    "    lines = file.readlines()\n",
    "    line_count = len(lines)\n",
    "    word_count = sum(len(line.split()) for line in lines)\n",
    "    char_count = sum(len(line) for line in lines)\n",
    "\n",
    "print(f'Lines: {line_count}')\n",
    "print(f'Words: {word_count}')\n",
    "print(f'Characters: {char_count}')"
   ]
  },
  {
   "cell_type": "code",
   "execution_count": 25,
   "metadata": {},
   "outputs": [
    {
     "name": "stdout",
     "output_type": "stream",
     "text": [
      "Hello, world!\n",
      "This is a file\n",
      "\n"
     ]
    }
   ],
   "source": [
    "# writing then reading\n",
    "\n",
    "with open('file.txt', 'w+') as file:\n",
    "    file.write('Hello, world!\\n')\n",
    "    file.write('This is a file\\n')\n",
    "\n",
    "# Move the cursor to the beginning of the file as it is at the end after writing\n",
    "    file.seek(0) # move the cursor to the beginning of the file\n",
    "    print(file.read())  "
   ]
  }
 ],
 "metadata": {
  "kernelspec": {
   "display_name": "Python 3",
   "language": "python",
   "name": "python3"
  },
  "language_info": {
   "codemirror_mode": {
    "name": "ipython",
    "version": 3
   },
   "file_extension": ".py",
   "mimetype": "text/x-python",
   "name": "python",
   "nbconvert_exporter": "python",
   "pygments_lexer": "ipython3",
   "version": "3.12.5"
  }
 },
 "nbformat": 4,
 "nbformat_minor": 2
}
