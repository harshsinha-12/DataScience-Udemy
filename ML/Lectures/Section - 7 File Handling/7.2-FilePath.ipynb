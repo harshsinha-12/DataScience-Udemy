{
 "cells": [
  {
   "cell_type": "code",
   "execution_count": 1,
   "metadata": {},
   "outputs": [
    {
     "name": "stdout",
     "output_type": "stream",
     "text": [
      "/Users/harshsinha/VS Code/DataScience-Udemy/ML-DL-NLP/Lectures/Section - 7 File Handling\n"
     ]
    }
   ],
   "source": [
    "# Using OS Module\n",
    "import os\n",
    "cwd = os.getcwd()\n",
    "print(cwd)"
   ]
  },
  {
   "cell_type": "code",
   "execution_count": 2,
   "metadata": {},
   "outputs": [
    {
     "name": "stdout",
     "output_type": "stream",
     "text": [
      "New directory resources created\n"
     ]
    }
   ],
   "source": [
    "## create a new directory\n",
    "new_dir = \"resources\"\n",
    "os.mkdir(new_dir)\n",
    "print(f\"New directory {new_dir} created\")"
   ]
  },
  {
   "cell_type": "code",
   "execution_count": 3,
   "metadata": {},
   "outputs": [
    {
     "name": "stdout",
     "output_type": "stream",
     "text": [
      "['resources', '7.1-FileOperations.ipynb', '7.2-FilePath.ipynb']\n"
     ]
    }
   ],
   "source": [
    "# List files and directories in the current directory\n",
    "items = os.listdir('.')\n",
    "print(items)"
   ]
  },
  {
   "cell_type": "code",
   "execution_count": 4,
   "metadata": {},
   "outputs": [
    {
     "name": "stdout",
     "output_type": "stream",
     "text": [
      "resources/file.txt\n"
     ]
    }
   ],
   "source": [
    "# Join Paths\n",
    "dir_name = \"resources\"\n",
    "file_name = \"file.txt\"\n",
    "file_path = os.path.join(dir_name, file_name)\n",
    "print(file_path)"
   ]
  },
  {
   "cell_type": "code",
   "execution_count": 7,
   "metadata": {},
   "outputs": [
    {
     "name": "stdout",
     "output_type": "stream",
     "text": [
      "/Users/harshsinha/VS Code/DataScience-Udemy/ML-DL-NLP/Lectures/Section - 7 File Handling/resources/file.txt\n"
     ]
    }
   ],
   "source": [
    "dir_name = \"resources\"\n",
    "file_name = \"file.txt\"\n",
    "file_path = os.path.join(os.getcwd(),dir_name, file_name)\n",
    "print(file_path)"
   ]
  },
  {
   "cell_type": "code",
   "execution_count": 8,
   "metadata": {},
   "outputs": [
    {
     "name": "stdout",
     "output_type": "stream",
     "text": [
      "example.txt does not exist\n"
     ]
    }
   ],
   "source": [
    "path = 'example.txt'\n",
    "if os.path.exists(path):\n",
    "    print(f\"{path} exists\")\n",
    "else:\n",
    "    print(f\"{path} does not exist\")"
   ]
  },
  {
   "cell_type": "code",
   "execution_count": 9,
   "metadata": {},
   "outputs": [
    {
     "name": "stdout",
     "output_type": "stream",
     "text": [
      "example.txt is neither a file nor a directory\n"
     ]
    }
   ],
   "source": [
    "import os \n",
    "path = 'example.txt'\n",
    "if os.path.isfile(path):\n",
    "    print(f\"{path} is a file\")\n",
    "elif os.path.isdir(path):\n",
    "    print(f\"{path} is a directory\")\n",
    "else:\n",
    "    print(f\"{path} is neither a file nor a directory\")"
   ]
  },
  {
   "cell_type": "code",
   "execution_count": 10,
   "metadata": {},
   "outputs": [
    {
     "name": "stdout",
     "output_type": "stream",
     "text": [
      "/Users/harshsinha/VS Code/DataScience-Udemy/ML-DL-NLP/Lectures/Section - 7 File Handling/example.txt\n"
     ]
    }
   ],
   "source": [
    "# Get the absolute path of a file\n",
    "relatve_path = 'example.txt'\n",
    "abs_path = os.path.abspath(relatve_path)\n",
    "print(abs_path)"
   ]
  }
 ],
 "metadata": {
  "kernelspec": {
   "display_name": "Python 3",
   "language": "python",
   "name": "python3"
  },
  "language_info": {
   "codemirror_mode": {
    "name": "ipython",
    "version": 3
   },
   "file_extension": ".py",
   "mimetype": "text/x-python",
   "name": "python",
   "nbconvert_exporter": "python",
   "pygments_lexer": "ipython3",
   "version": "3.12.5"
  }
 },
 "nbformat": 4,
 "nbformat_minor": 2
}
