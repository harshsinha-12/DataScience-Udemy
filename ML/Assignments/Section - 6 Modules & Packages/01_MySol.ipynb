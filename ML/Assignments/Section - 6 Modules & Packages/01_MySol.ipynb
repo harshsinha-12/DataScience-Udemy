{
 "cells": [
  {
   "cell_type": "markdown",
   "metadata": {},
   "source": [
    "# Module 5: Modules and Packages Assignments\n",
    "## Lesson 5.1: Importing Modules\n",
    "### Assignment 1: Importing and Using Modules\n",
    "\n",
    "Import the `math` module and use it to calculate the square root of 25 and the sine of 90 degrees.\n",
    "\n",
    "### Assignment 2: Aliasing Modules\n",
    "\n",
    "Import the `datetime` module with an alias and use it to print the current date and time.\n",
    "\n",
    "### Assignment 3: Importing Specific Functions\n",
    "\n",
    "Import the `randint` function from the `random` module and use it to generate a random integer between 1 and 100.\n",
    "\n",
    "### Assignment 4: Importing Multiple Functions\n",
    "\n",
    "Import the `sqrt` and `pow` functions from the `math` module and use them to calculate the square root of 16 and 2 raised to the power of 3.\n",
    "\n",
    "### Assignment 5: Handling Import Errors\n",
    "\n",
    "Write code that attempts to import a non-existent module and gracefully handles the import error by printing an error message.\n",
    "\n",
    "## Lesson 5.2: Standard Library Overview\n",
    "### Assignment 6: Working with the `os` Module\n",
    "\n",
    "Use the `os` module to create a new directory, list the contents of the current directory, and remove the newly created directory.\n",
    "\n",
    "### Assignment 7: Working with the `sys` Module\n",
    "\n",
    "Use the `sys` module to print the Python version currently in use and the command-line arguments passed to the script.\n",
    "\n",
    "### Assignment 8: Working with the `math` Module\n",
    "\n",
    "Use the `math` module to calculate the greatest common divisor (GCD) of two numbers and the factorial of a number.\n",
    "\n",
    "### Assignment 9: Working with the `datetime` Module\n",
    "\n",
    "Use the `datetime` module to print the current date, calculate the date 100 days from today, and determine the day of the week for a given date.\n",
    "\n",
    "### Assignment 10: Working with the `random` Module\n",
    "\n",
    "Use the `random` module to generate a list of 5 random numbers between 1 and 50 and shuffle the elements of a list.\n",
    "\n",
    "## Lesson 5.3: Creating and Using Packages\n",
    "### Assignment 11: Creating a Simple Package\n",
    "\n",
    "Create a package named `mypackage` with two modules: `module1` and `module2`. `module1` should contain a function that adds two numbers, and `module2` should contain a function that multiplies two numbers. Write code to use these functions.\n",
    "\n",
    "### Assignment 12: Using `__init__.py`\n",
    "\n",
    "Modify the `mypackage` package to include an `__init__.py` file that imports the functions from `module1` and `module2`. Write code to use these functions.\n",
    "\n",
    "### Assignment 13: Importing from a Package\n",
    "\n",
    "Write code to import and use the functions from `mypackage` without explicitly importing `module1` and `module2`.\n",
    "\n",
    "### Assignment 14: Relative Imports\n",
    "\n",
    "Create a subpackage named `subpackage` within `mypackage` and move `module2` into `subpackage`. Modify the import statements in `__init__.py` to use relative imports. Write code to use the functions from both modules.\n",
    "\n",
    "### Assignment 15: Handling Package Import Errors\n",
    "\n",
    "Write code that attempts to import a non-existent function from `mypackage` and gracefully handles the import error by printing an error message."
   ]
  },
  {
   "cell_type": "code",
   "execution_count": 1,
   "metadata": {},
   "outputs": [
    {
     "name": "stdout",
     "output_type": "stream",
     "text": [
      "5.0\n",
      "1.0\n"
     ]
    }
   ],
   "source": [
    "# Assignment 1\n",
    "import math\n",
    "\n",
    "print(math.sqrt(25))  # 5.0\n",
    "print(math.sin(math.radians(90)))  # 1.0"
   ]
  },
  {
   "cell_type": "code",
   "execution_count": 2,
   "id": "1141d3df",
   "metadata": {},
   "outputs": [
    {
     "name": "stdout",
     "output_type": "stream",
     "text": [
      "2024-09-16 08:20:31.020749\n"
     ]
    }
   ],
   "source": [
    "# Assignment 2\n",
    "import datetime as dt\n",
    "\n",
    "print(dt.datetime.now())"
   ]
  },
  {
   "cell_type": "code",
   "execution_count": 3,
   "id": "f4593ac5",
   "metadata": {},
   "outputs": [
    {
     "name": "stdout",
     "output_type": "stream",
     "text": [
      "68\n"
     ]
    }
   ],
   "source": [
    "# Assignment 3\n",
    "from random import randint\n",
    "\n",
    "print(randint(1, 100))"
   ]
  },
  {
   "cell_type": "code",
   "execution_count": 4,
   "id": "e165e69f",
   "metadata": {},
   "outputs": [
    {
     "name": "stdout",
     "output_type": "stream",
     "text": [
      "4.0\n",
      "8.0\n"
     ]
    }
   ],
   "source": [
    "# Assignment 4\n",
    "from math import sqrt, pow\n",
    "\n",
    "print(sqrt(16))  # 4.0\n",
    "print(pow(2, 3))  # 8.0"
   ]
  },
  {
   "cell_type": "code",
   "execution_count": 5,
   "id": "8db840c4",
   "metadata": {},
   "outputs": [
    {
     "name": "stdout",
     "output_type": "stream",
     "text": [
      "Error importing module: No module named 'non_existent_module'\n"
     ]
    }
   ],
   "source": [
    "# Assignment 5\n",
    "try:\n",
    "    import non_existent_module\n",
    "except ImportError as e:\n",
    "    print(f\"Error importing module: {e}\")"
   ]
  },
  {
   "cell_type": "code",
   "execution_count": 6,
   "id": "367961de",
   "metadata": {},
   "outputs": [
    {
     "name": "stdout",
     "output_type": "stream",
     "text": [
      "['01_MySol.ipynb', '01_KrishSol.ipynb', 'new_directory']\n",
      "['01_MySol.ipynb', '01_KrishSol.ipynb']\n"
     ]
    }
   ],
   "source": [
    "# Assignment 6\n",
    "import os\n",
    "\n",
    "# Create a new directory\n",
    "os.mkdir('new_directory')\n",
    "\n",
    "# List contents of the current directory\n",
    "print(os.listdir('.'))\n",
    "\n",
    "# Remove the newly created directory\n",
    "os.rmdir('new_directory')\n",
    "print(os.listdir('.'))"
   ]
  },
  {
   "cell_type": "code",
   "execution_count": 7,
   "id": "3bb85f0c",
   "metadata": {},
   "outputs": [
    {
     "name": "stdout",
     "output_type": "stream",
     "text": [
      "Python version: 3.12.5 (v3.12.5:ff3bc82f7c9, Aug  7 2024, 05:32:06) [Clang 13.0.0 (clang-1300.0.29.30)]\n",
      "Command-line arguments: ['/Users/harshsinha/Library/Python/3.12/lib/python/site-packages/ipykernel_launcher.py', '--f=/Users/harshsinha/Library/Jupyter/runtime/kernel-v30b16335b4218c3b2bb7efd20f7d51472270f747c.json']\n"
     ]
    }
   ],
   "source": [
    "# Assignment 7\n",
    "import sys\n",
    "\n",
    "print(f\"Python version: {sys.version}\")\n",
    "print(f\"Command-line arguments: {sys.argv}\")"
   ]
  },
  {
   "cell_type": "code",
   "execution_count": 8,
   "id": "bd73144d",
   "metadata": {},
   "outputs": [
    {
     "name": "stdout",
     "output_type": "stream",
     "text": [
      "6\n",
      "120\n"
     ]
    }
   ],
   "source": [
    "# Assignment 8\n",
    "import math\n",
    "\n",
    "print(math.gcd(48, 18))  # 6\n",
    "print(math.factorial(5))  # 120"
   ]
  },
  {
   "cell_type": "code",
   "execution_count": 9,
   "id": "794af26e",
   "metadata": {},
   "outputs": [
    {
     "name": "stdout",
     "output_type": "stream",
     "text": [
      "Today's date: 2024-09-16\n",
      "Date 100 days from today: 2024-12-25\n",
      "Day of the week for 2022-01-01: Saturday\n"
     ]
    }
   ],
   "source": [
    "# Assignment 9\n",
    "import datetime\n",
    "\n",
    "# Current date\n",
    "today = datetime.date.today()\n",
    "print(f\"Today's date: {today}\")\n",
    "\n",
    "# Date 100 days from today\n",
    "future_date = today + datetime.timedelta(days=100)\n",
    "print(f\"Date 100 days from today: {future_date}\")\n",
    "\n",
    "# Day of the week for a given date\n",
    "given_date = datetime.date(2022, 1, 1)\n",
    "print(f\"Day of the week for 2022-01-01: {given_date.strftime('%A')}\")\n"
   ]
  },
  {
   "cell_type": "code",
   "execution_count": 10,
   "id": "dba5eec5",
   "metadata": {},
   "outputs": [
    {
     "name": "stdout",
     "output_type": "stream",
     "text": [
      "[14, 7, 34, 41, 14]\n",
      "[4, 1, 3, 2, 5]\n"
     ]
    }
   ],
   "source": [
    "# Assignment 10\n",
    "import random\n",
    "\n",
    "# List of 5 random numbers between 1 and 50\n",
    "random_numbers = [random.randint(1, 50) for _ in range(5)]\n",
    "print(random_numbers)\n",
    "\n",
    "# Shuffle a list\n",
    "lst = [1, 2, 3, 4, 5]\n",
    "random.shuffle(lst)\n",
    "print(lst)"
   ]
  }
 ],
 "metadata": {
  "kernelspec": {
   "display_name": "Python 3",
   "language": "python",
   "name": "python3"
  },
  "language_info": {
   "codemirror_mode": {
    "name": "ipython",
    "version": 3
   },
   "file_extension": ".py",
   "mimetype": "text/x-python",
   "name": "python",
   "nbconvert_exporter": "python",
   "pygments_lexer": "ipython3",
   "version": "3.12.5"
  }
 },
 "nbformat": 4,
 "nbformat_minor": 5
}
