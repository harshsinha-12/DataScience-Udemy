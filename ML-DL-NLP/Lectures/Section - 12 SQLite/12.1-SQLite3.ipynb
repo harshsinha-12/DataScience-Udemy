{
 "cells": [
  {
   "cell_type": "markdown",
   "metadata": {},
   "source": [
    "SQL (Structured Query Language) is a standard language for managing and manipulating relational databases. SQLite is a self-contained, serverless, and zero-configuration database engine that is widely used for embedded database systems. In this lesson, we will cover the basics of SQL and SQLite, including creating databases, tables, and performing various SQL operations"
   ]
  },
  {
   "cell_type": "code",
   "execution_count": 1,
   "metadata": {},
   "outputs": [],
   "source": [
    "import sqlite3"
   ]
  },
  {
   "cell_type": "code",
   "execution_count": 2,
   "metadata": {},
   "outputs": [
    {
     "data": {
      "text/plain": [
       "<sqlite3.Connection at 0x1075e9e40>"
      ]
     },
     "execution_count": 2,
     "metadata": {},
     "output_type": "execute_result"
    }
   ],
   "source": [
    "connection = sqlite3.connect('data.db')\n",
    "connection"
   ]
  },
  {
   "cell_type": "code",
   "execution_count": 8,
   "metadata": {},
   "outputs": [],
   "source": [
    "cursor = connection.cursor()\n",
    "cursor.execute('''\n",
    "CREATE TABLE if not Exists employees(\n",
    "    id INTEGER PRIMARY KEY,\n",
    "    name TEXT Not Null,\n",
    "    age INTEGER,\n",
    "    department TEXT\n",
    ")''')  \n",
    "connection.commit()"
   ]
  },
  {
   "cell_type": "code",
   "execution_count": 9,
   "metadata": {},
   "outputs": [
    {
     "data": {
      "text/plain": [
       "<sqlite3.Cursor at 0x107cb81c0>"
      ]
     },
     "execution_count": 9,
     "metadata": {},
     "output_type": "execute_result"
    }
   ],
   "source": [
    "cursor.execute('''\n",
    "Select * from employees\n",
    "''')"
   ]
  },
  {
   "cell_type": "code",
   "execution_count": 13,
   "metadata": {},
   "outputs": [
    {
     "data": {
      "text/plain": [
       "<sqlite3.Cursor at 0x107cb81c0>"
      ]
     },
     "execution_count": 13,
     "metadata": {},
     "output_type": "execute_result"
    }
   ],
   "source": [
    "cursor.execute('''\n",
    "INSERT INTO employees (name, age, department) VALUES ('John', 45, 'HR')\n",
    "''')\n",
    "cursor.execute('''\n",
    "INSERT INTO employees (name, age, department) VALUES ('Sam', 43, 'Engineering')\n",
    "''')\n",
    "cursor.execute('''\n",
    "INSERT INTO employees (name, age, department) VALUES ('Johnny', 35, 'Manager')\n",
    "''')"
   ]
  },
  {
   "cell_type": "code",
   "execution_count": 14,
   "metadata": {},
   "outputs": [
    {
     "name": "stdout",
     "output_type": "stream",
     "text": [
      "(1, 'John', 45, 'HR')\n",
      "(2, 'John', 45, 'HR')\n",
      "(3, 'Sam', 43, 'Engineering')\n",
      "(4, 'Johnny', 35, 'Manager')\n",
      "(5, 'John', 45, 'HR')\n",
      "(6, 'Sam', 43, 'Engineering')\n",
      "(7, 'Johnny', 35, 'Manager')\n"
     ]
    }
   ],
   "source": [
    "cursor.execute('Select * from employees')\n",
    "rows = cursor.fetchall()\n",
    "for row in rows:\n",
    "    print(row)"
   ]
  },
  {
   "cell_type": "code",
   "execution_count": 18,
   "metadata": {},
   "outputs": [
    {
     "data": {
      "text/plain": [
       "<sqlite3.Cursor at 0x107cb81c0>"
      ]
     },
     "execution_count": 18,
     "metadata": {},
     "output_type": "execute_result"
    }
   ],
   "source": [
    "# update data\n",
    "cursor.execute('''\n",
    "UPDATE employees SET age = 21 WHERE name = 'John'\n",
    "''')"
   ]
  },
  {
   "cell_type": "code",
   "execution_count": 19,
   "metadata": {},
   "outputs": [
    {
     "name": "stdout",
     "output_type": "stream",
     "text": [
      "(1, 'John', 21, 'HR')\n",
      "(2, 'John', 21, 'HR')\n",
      "(3, 'Sam', 43, 'Engineering')\n",
      "(4, 'Johnny', 35, 'Manager')\n",
      "(5, 'John', 21, 'HR')\n",
      "(6, 'Sam', 43, 'Engineering')\n",
      "(7, 'Johnny', 35, 'Manager')\n"
     ]
    }
   ],
   "source": [
    "cursor.execute('Select * from employees')\n",
    "rows = cursor.fetchall()\n",
    "for row in rows:\n",
    "    print(row)"
   ]
  },
  {
   "cell_type": "code",
   "execution_count": 20,
   "metadata": {},
   "outputs": [
    {
     "name": "stdout",
     "output_type": "stream",
     "text": [
      "(1, 'John', 21, 'HR')\n",
      "(2, 'John', 21, 'HR')\n",
      "(3, 'Sam', 43, 'Engineering')\n",
      "(5, 'John', 21, 'HR')\n",
      "(6, 'Sam', 43, 'Engineering')\n"
     ]
    }
   ],
   "source": [
    "# Delete data\n",
    "cursor.execute('''\n",
    "DELETE FROM employees WHERE name = 'Johnny'\n",
    "''')\n",
    "cursor.execute('Select * from employees')\n",
    "rows = cursor.fetchall()\n",
    "for row in rows:\n",
    "    print(row)"
   ]
  },
  {
   "cell_type": "code",
   "execution_count": null,
   "metadata": {},
   "outputs": [],
   "source": []
  }
 ],
 "metadata": {
  "kernelspec": {
   "display_name": "Python 3",
   "language": "python",
   "name": "python3"
  },
  "language_info": {
   "codemirror_mode": {
    "name": "ipython",
    "version": 3
   },
   "file_extension": ".py",
   "mimetype": "text/x-python",
   "name": "python",
   "nbconvert_exporter": "python",
   "pygments_lexer": "ipython3",
   "version": "3.12.5"
  }
 },
 "nbformat": 4,
 "nbformat_minor": 2
}
