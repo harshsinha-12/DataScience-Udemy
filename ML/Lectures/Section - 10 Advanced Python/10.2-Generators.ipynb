{
 "cells": [
  {
   "cell_type": "markdown",
   "metadata": {},
   "source": [
    "Generators are a simpler way to create iterators. They use the yield keyword to produce a series of values lazily, which means they generate values on the fly and do not store them in memory."
   ]
  },
  {
   "cell_type": "code",
   "execution_count": 4,
   "metadata": {},
   "outputs": [
    {
     "data": {
      "text/plain": [
       "0"
      ]
     },
     "execution_count": 4,
     "metadata": {},
     "output_type": "execute_result"
    }
   ],
   "source": [
    "def square(n):\n",
    "    for i in range(3):\n",
    "        return i**2 \n",
    "square(3)"
   ]
  },
  {
   "cell_type": "code",
   "execution_count": 5,
   "metadata": {},
   "outputs": [
    {
     "data": {
      "text/plain": [
       "<generator object square at 0x10785dcb0>"
      ]
     },
     "execution_count": 5,
     "metadata": {},
     "output_type": "execute_result"
    }
   ],
   "source": [
    "def square(n):\n",
    "    for i in range(3):\n",
    "        yield i**2 # yield is a generator\n",
    "square(3)"
   ]
  },
  {
   "cell_type": "code",
   "execution_count": 6,
   "metadata": {},
   "outputs": [
    {
     "name": "stdout",
     "output_type": "stream",
     "text": [
      "0\n",
      "1\n",
      "4\n"
     ]
    }
   ],
   "source": [
    "for i in square(3):\n",
    "    print(i)"
   ]
  },
  {
   "cell_type": "code",
   "execution_count": 8,
   "metadata": {},
   "outputs": [
    {
     "data": {
      "text/plain": [
       "<generator object square at 0x10785f780>"
      ]
     },
     "execution_count": 8,
     "metadata": {},
     "output_type": "execute_result"
    }
   ],
   "source": [
    "a = square(3)\n",
    "a"
   ]
  },
  {
   "cell_type": "code",
   "execution_count": 9,
   "metadata": {},
   "outputs": [
    {
     "data": {
      "text/plain": [
       "0"
      ]
     },
     "execution_count": 9,
     "metadata": {},
     "output_type": "execute_result"
    }
   ],
   "source": [
    "next(a)"
   ]
  },
  {
   "cell_type": "code",
   "execution_count": 10,
   "metadata": {},
   "outputs": [
    {
     "data": {
      "text/plain": [
       "1"
      ]
     },
     "execution_count": 10,
     "metadata": {},
     "output_type": "execute_result"
    }
   ],
   "source": [
    "next(a)"
   ]
  },
  {
   "cell_type": "code",
   "execution_count": 11,
   "metadata": {},
   "outputs": [
    {
     "data": {
      "text/plain": [
       "4"
      ]
     },
     "execution_count": 11,
     "metadata": {},
     "output_type": "execute_result"
    }
   ],
   "source": [
    "next(a)"
   ]
  },
  {
   "cell_type": "code",
   "execution_count": 17,
   "metadata": {},
   "outputs": [
    {
     "data": {
      "text/plain": [
       "<function __main__.my_gen()>"
      ]
     },
     "execution_count": 17,
     "metadata": {},
     "output_type": "execute_result"
    }
   ],
   "source": [
    "def my_gen():\n",
    "    yield 1\n",
    "    yield 2\n",
    "    yield 3\n",
    "\n",
    "my_gen"
   ]
  },
  {
   "cell_type": "code",
   "execution_count": 18,
   "metadata": {},
   "outputs": [
    {
     "data": {
      "text/plain": [
       "<generator object my_gen at 0x107eb4670>"
      ]
     },
     "execution_count": 18,
     "metadata": {},
     "output_type": "execute_result"
    }
   ],
   "source": [
    "gen = my_gen()\n",
    "gen"
   ]
  },
  {
   "cell_type": "code",
   "execution_count": 19,
   "metadata": {},
   "outputs": [
    {
     "data": {
      "text/plain": [
       "1"
      ]
     },
     "execution_count": 19,
     "metadata": {},
     "output_type": "execute_result"
    }
   ],
   "source": [
    "next(gen)"
   ]
  },
  {
   "cell_type": "code",
   "execution_count": 20,
   "metadata": {},
   "outputs": [
    {
     "data": {
      "text/plain": [
       "2"
      ]
     },
     "execution_count": 20,
     "metadata": {},
     "output_type": "execute_result"
    }
   ],
   "source": [
    "next(gen)"
   ]
  },
  {
   "cell_type": "code",
   "execution_count": 21,
   "metadata": {},
   "outputs": [
    {
     "data": {
      "text/plain": [
       "3"
      ]
     },
     "execution_count": 21,
     "metadata": {},
     "output_type": "execute_result"
    }
   ],
   "source": [
    "next(gen)"
   ]
  },
  {
   "cell_type": "markdown",
   "metadata": {},
   "source": [
    "Practical Example\n",
    "\n",
    "Generators are particularly useful for memory-intensive tasks for reading large files because they allow you to read one line at a time as opposed to reading the entire file into memory."
   ]
  },
  {
   "cell_type": "code",
   "execution_count": 22,
   "metadata": {},
   "outputs": [],
   "source": [
    "def read_large_file(file_path):\n",
    "    with open(file_path, 'r') as file:\n",
    "        for line in file:\n",
    "            yield line\n"
   ]
  },
  {
   "cell_type": "code",
   "execution_count": 25,
   "metadata": {},
   "outputs": [
    {
     "name": "stdout",
     "output_type": "stream",
     "text": [
      "The Nifty formed a Doji candle on the daily chart near its all-time high, which may be signaling short-term hesitation ahead of the US Fed meeting due later this week with the Street expectations that it might start with an outsized rate cut.\n",
      "\n",
      "Nifty formed a small sideways Doji candle resulting in three days of narrow range moves. Nifty is in the process of consolidating ahead of the big event. A breakout of the 25,292-25,442 band could result in a sharper move in that direction, said Deepak Jasani of HDFC Securities.\n",
      "JM Financial\n",
      "\n",
      "NSE\n",
      "CLOSED - 03:59 PM | 17 Sep 2024\n",
      "131.58\n",
      "\n",
      "-2.25 (-1.69%)\n",
      "\n",
      "\n",
      "STOCK SCORE\n",
      "ETPrime Only\n",
      "Key Metrics\n",
      "\n",
      "PE Ratio (x)\n",
      "30.33\n",
      "EPS - TTM\n",
      "4.34\n",
      "MCap (₹ Cr.)\n",
      "12,575.62\n",
      "MCap Rank\n",
      "25\n",
      "PB Ratio(x)\n",
      "1.12\n",
      "Div Yield(%)\n",
      "1.52\n",
      "Face Value(₹)\n",
      "1.00\n",
      "Beta\n",
      "1.75\n",
      "52W H/L\n",
      "136 / 69\n",
      "More on JM Financial\n",
      "\n",
      "In the open interest (OI) data, the highest OI on the call side was observed at 25,400 and 25,500 strike prices, while on the put side, the highest OI was at 25,400 strike price followed by 25,300.\n",
      "\n",
      "What should traders do? Here’s what analysts said:\n",
      "\n",
      "Rupak De, LKP Securities\n",
      "A breakout from the recent range-bound pattern could provide a clear direction for the Nifty. Immediate support is at 25,350, and a fall below this level might lead to the unwinding of put option writing positions, potentially triggering a correction toward 25,000. On the upside, resistance is seen at 25,500, and a strong upward move may be expected if Nifty breaks above this level.\n",
      "\n",
      "Hrishikesh Yedve, Asit C Mehta Investment Interrmediates\n",
      "Technically, the index on a daily scale formed a doji candle near its all-time high, signaling some short-term hesitation. However, the fact that Nifty remained above 25,335 (the breakout level of the rounding bottom pattern) suggests underlying strength. The 21-DEMA support is currently placed near 25,060, which will act as the next major support for the index. As long as Nifty stays above 25,060, a \"buy on dips\" strategy is advisable, with the potential for the index to test 25,600 in the short term.\n",
      "\n",
      "Tejas Shah, JM Financial & BlinkX\n",
      "The rally is likely to continue and the Nifty can test the next resistance zone of 25,500-550 in the next couple of days. The short term moving averages are below the price action and should continue to support the indices on any / every decline. Support for Nifty is now seen at 25,350 and 25,200. On the higher side, the next crucial resistance zone is at 25,500-550 levels.\n",
      "\n",
      "(Disclaimer: Recommendations, suggestions, views and opinions given by the experts are their own. These do not represent the views of Economic Times)\n"
     ]
    }
   ],
   "source": [
    "file_path = \"large.txt\"\n",
    "\n",
    "for line in read_large_file(file_path):\n",
    "    print(line.strip())"
   ]
  },
  {
   "cell_type": "code",
   "execution_count": null,
   "metadata": {},
   "outputs": [],
   "source": []
  }
 ],
 "metadata": {
  "kernelspec": {
   "display_name": "Python 3",
   "language": "python",
   "name": "python3"
  },
  "language_info": {
   "codemirror_mode": {
    "name": "ipython",
    "version": 3
   },
   "file_extension": ".py",
   "mimetype": "text/x-python",
   "name": "python",
   "nbconvert_exporter": "python",
   "pygments_lexer": "ipython3",
   "version": "3.12.5"
  }
 },
 "nbformat": 4,
 "nbformat_minor": 2
}
