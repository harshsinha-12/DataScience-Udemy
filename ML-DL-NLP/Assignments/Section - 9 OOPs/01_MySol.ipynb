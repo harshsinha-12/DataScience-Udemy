{
 "cells": [
  {
   "cell_type": "markdown",
   "metadata": {},
   "source": [
    "# Module: Classes and Objects Assignments\n",
    "## Lesson: Creating and Working with Classes and Objects\n",
    "### Assignment 1: Basic Class and Object Creation\n",
    "\n",
    "Create a class named `Car` with attributes `make`, `model`, and `year`. Create an object of the class and print its attributes.\n",
    "\n",
    "### Assignment 2: Methods in Class\n",
    "\n",
    "Add a method named `start_engine` to the `Car` class that prints a message when the engine starts. Create an object of the class and call the method.\n",
    "\n",
    "### Assignment 3: Class with Constructor\n",
    "\n",
    "Create a class named `Student` with attributes `name` and `age`. Use a constructor to initialize these attributes. Create an object of the class and print its attributes.\n",
    "\n",
    "### Assignment 4: Class with Private Attributes\n",
    "\n",
    "Create a class named `BankAccount` with private attributes `account_number` and `balance`. Add methods to deposit and withdraw money, and to check the balance. Create an object of the class and perform some operations.\n",
    "\n",
    "### Assignment 5: Class Inheritance\n",
    "\n",
    "Create a base class named `Person` with attributes `name` and `age`. Create a derived class named `Employee` that inherits from `Person` and adds an attribute `employee_id`. Create an object of the derived class and print its attributes.\n",
    "\n",
    "### Assignment 6: Method Overriding\n",
    "\n",
    "In the `Employee` class, override the `__str__` method to return a string representation of the object. Create an object of the class and print it.\n",
    "\n",
    "### Assignment 7: Class Composition\n",
    "\n",
    "Create a class named `Address` with attributes `street`, `city`, and `zipcode`. Create a class named `Person` that has an `Address` object as an attribute. Create an object of the `Person` class and print its address.\n",
    "\n",
    "### Assignment 8: Class with Class Variables\n",
    "\n",
    "Create a class named `Counter` with a class variable `count`. Each time an object is created, increment the count. Add a method to get the current count. Create multiple objects and print the count.\n",
    "\n",
    "### Assignment 9: Static Methods\n",
    "\n",
    "Create a class named `MathOperations` with a static method to calculate the square root of a number. Call the static method without creating an object.\n",
    "\n",
    "### Assignment 10: Class with Properties\n",
    "\n",
    "Create a class named `Rectangle` with private attributes `length` and `width`. Use properties to get and set these attributes. Create an object of the class and test the properties.\n",
    "\n",
    "### Assignment 11: Abstract Base Class\n",
    "\n",
    "Create an abstract base class named `Shape` with an abstract method `area`. Create derived classes `Circle` and `Square` that implement the `area` method. Create objects of the derived classes and call the `area` method.\n",
    "\n",
    "### Assignment 12: Operator Overloading\n",
    "\n",
    "Create a class named `Vector` with attributes `x` and `y`. Overload the `+` operator to add two `Vector` objects. Create objects of the class and test the operator overloading.\n",
    "\n",
    "### Assignment 13: Class with Custom Exception\n",
    "\n",
    "Create a custom exception named `InsufficientBalanceError`. In the `BankAccount` class, raise this exception when a withdrawal amount is greater than the balance. Handle the exception and print an appropriate message.\n",
    "\n",
    "### Assignment 14: Class with Context Manager\n",
    "\n",
    "Create a class named `FileManager` that implements the context manager protocol to open and close a file. Use this class to read the contents of a file.\n",
    "\n",
    "### Assignment 15: Chaining Methods\n",
    "\n",
    "Create a class named `Calculator` with methods to add, subtract, multiply, and divide. Each method should return the object itself to allow method chaining. Create an object and chain multiple method calls."
   ]
  },
  {
   "cell_type": "code",
   "execution_count": null,
   "metadata": {},
   "outputs": [],
   "source": [
    "# Assignment 1"
   ]
  },
  {
   "cell_type": "code",
   "execution_count": null,
   "id": "2babdf46",
   "metadata": {},
   "outputs": [],
   "source": [
    "# Assignment 2"
   ]
  },
  {
   "cell_type": "code",
   "execution_count": null,
   "id": "254a4beb",
   "metadata": {},
   "outputs": [],
   "source": [
    "# Assignment 3"
   ]
  },
  {
   "cell_type": "code",
   "execution_count": null,
   "id": "8e7ae906",
   "metadata": {},
   "outputs": [],
   "source": [
    "# Assignment 4"
   ]
  },
  {
   "cell_type": "code",
   "execution_count": null,
   "id": "4b5dd156",
   "metadata": {},
   "outputs": [],
   "source": [
    "# Assignment 5"
   ]
  },
  {
   "cell_type": "code",
   "execution_count": null,
   "id": "5b12f8f9",
   "metadata": {},
   "outputs": [],
   "source": [
    "# Assignment 6"
   ]
  },
  {
   "cell_type": "code",
   "execution_count": null,
   "id": "d9037a73",
   "metadata": {},
   "outputs": [],
   "source": [
    "# Assignment 7"
   ]
  },
  {
   "cell_type": "code",
   "execution_count": null,
   "id": "d9e2fe9b",
   "metadata": {},
   "outputs": [],
   "source": [
    "# Assignment 8"
   ]
  },
  {
   "cell_type": "code",
   "execution_count": null,
   "id": "58093df5",
   "metadata": {},
   "outputs": [],
   "source": [
    "# Assignment 9"
   ]
  },
  {
   "cell_type": "code",
   "execution_count": null,
   "id": "7ffdf4ee",
   "metadata": {},
   "outputs": [],
   "source": [
    "# Assignment 10"
   ]
  },
  {
   "cell_type": "code",
   "execution_count": null,
   "id": "01bb68e1",
   "metadata": {},
   "outputs": [],
   "source": [
    "# Assignment 11"
   ]
  },
  {
   "cell_type": "code",
   "execution_count": null,
   "id": "7de93b95",
   "metadata": {},
   "outputs": [],
   "source": [
    "# Assignment 12"
   ]
  },
  {
   "cell_type": "code",
   "execution_count": null,
   "id": "a6db9e75",
   "metadata": {},
   "outputs": [],
   "source": [
    "# Assignment 13"
   ]
  },
  {
   "cell_type": "code",
   "execution_count": null,
   "id": "0311c29c",
   "metadata": {},
   "outputs": [],
   "source": [
    "# Assignment 14"
   ]
  },
  {
   "cell_type": "code",
   "execution_count": null,
   "id": "89f99190",
   "metadata": {},
   "outputs": [],
   "source": [
    "# Assignment 15"
   ]
  }
 ],
 "metadata": {
  "kernelspec": {
   "display_name": "Python 3",
   "language": "python",
   "name": "python3"
  },
  "language_info": {
   "codemirror_mode": {
    "name": "ipython",
    "version": 3
   },
   "file_extension": ".py",
   "mimetype": "text/x-python",
   "name": "python",
   "nbconvert_exporter": "python",
   "pygments_lexer": "ipython3",
   "version": "3.12.5"
  }
 },
 "nbformat": 4,
 "nbformat_minor": 5
}
